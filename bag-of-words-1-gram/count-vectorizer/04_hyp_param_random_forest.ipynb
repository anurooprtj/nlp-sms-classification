{
 "cells": [
  {
   "cell_type": "code",
   "execution_count": 0,
   "metadata": {
    "colab": {},
    "colab_type": "code",
    "id": "lTNGm0JNGA3F"
   },
   "outputs": [],
   "source": [
    "# from google.colab import drive\n",
    "# drive.mount('/content/drive')"
   ]
  },
  {
   "cell_type": "code",
   "execution_count": 0,
   "metadata": {
    "colab": {},
    "colab_type": "code",
    "id": "T_-4p8ChF4pW"
   },
   "outputs": [],
   "source": [
    "import numpy as np\n",
    "import _pickle as pickle"
   ]
  },
  {
   "cell_type": "code",
   "execution_count": 0,
   "metadata": {
    "colab": {},
    "colab_type": "code",
    "id": "9XkYV-m3GN3Z"
   },
   "outputs": [],
   "source": [
    "#Load data\n",
    "with open('/content/drive/My Drive/ML_Data/sms-NLP/sms_train_test.dat', 'rb') as fp:\n",
    "    X_train_dtm = pickle.load(fp)\n",
    "    X_test_dtm = pickle.load(fp)\n",
    "    X_train_tfidf = pickle.load(fp)\n",
    "    X_test_tfidf = pickle.load(fp)\n",
    "    X_train = pickle.load(fp)\n",
    "    X_test = pickle.load(fp) \n",
    "    y_train = pickle.load(fp)\n",
    "    y_test = pickle.load(fp)"
   ]
  },
  {
   "cell_type": "code",
   "execution_count": 4,
   "metadata": {
    "colab": {
     "base_uri": "https://localhost:8080/",
     "height": 85
    },
    "colab_type": "code",
    "executionInfo": {
     "elapsed": 1262,
     "status": "ok",
     "timestamp": 1566794121082,
     "user": {
      "displayName": "Anuroop Raphael.T.J",
      "photoUrl": "https://lh3.googleusercontent.com/a-/AAuE7mDL1orJZ3v_nqD1rq810nW7qYWf-SZ0MDceCk9lig=s64",
      "userId": "15808166267121934928"
     },
     "user_tz": -330
    },
    "id": "0BKfP5NWGRiy",
    "outputId": "dcc5df6e-b795-482f-fd65-edbaa48b7d38"
   },
   "outputs": [
    {
     "name": "stdout",
     "output_type": "stream",
     "text": [
      "X_train_dtm.shape:  (4457, 7668)\n",
      "X_test_dtm.shape:  (1115, 7668)\n",
      "\n",
      "X_train_dtm.type:  <class 'scipy.sparse.csr.csr_matrix'>\n"
     ]
    }
   ],
   "source": [
    "print(\"X_train_dtm.shape: \", X_train_dtm.shape)\n",
    "print(\"X_test_dtm.shape: \", X_test_dtm.shape)\n",
    "print(\"\\nX_train_dtm.type: \", type(X_train_dtm))"
   ]
  },
  {
   "cell_type": "code",
   "execution_count": 0,
   "metadata": {
    "colab": {},
    "colab_type": "code",
    "id": "vjUGYw5nGVaF"
   },
   "outputs": [],
   "source": [
    "from sklearn.ensemble import RandomForestClassifier\n",
    "from sklearn.model_selection import GridSearchCV"
   ]
  },
  {
   "cell_type": "code",
   "execution_count": 0,
   "metadata": {
    "colab": {},
    "colab_type": "code",
    "id": "IgezF5C0HwAs"
   },
   "outputs": [],
   "source": [
    "rnd_clf = RandomForestClassifier(random_state = 42)"
   ]
  },
  {
   "cell_type": "code",
   "execution_count": 0,
   "metadata": {
    "colab": {},
    "colab_type": "code",
    "id": "NTdfMlriGl92"
   },
   "outputs": [],
   "source": [
    "param_grid = [\n",
    "#   {'n_estimators': [i for i in range(2,103,10)], 'max_depth': [i for i in range(2,11)]} \n",
    "    # - {'max_depth': 9, 'n_estimators': 2}\n",
    "#   {'n_estimators': [i for i in range(2,10)], 'max_depth': [i for i in range(5,15)]}   \n",
    "    #-{'max_depth': 14, 'n_estimators': 2}\n",
    "#   {'n_estimators': [i for i in range(2,10)], 'max_depth': [i for i in range(10,20)]}  \n",
    "    #-{'max_depth': 19, 'n_estimators': 4}\n",
    "#     {'n_estimators': [i for i in range(2,10)], 'max_depth': [i for i in range(15,30)]}  \n",
    "    #- {'max_depth': 27, 'n_estimators': 6}\n",
    "#     {'n_estimators': [i for i in range(2,10)], 'max_depth': [i for i in range(25,40)]}  \n",
    "    #-{'max_depth': 37, 'n_estimators': 6} score: 9690374691496523\n",
    "#     {'n_estimators': [i for i in range(2,10)], 'max_depth': [i for i in range(35,51)]}  \n",
    "    #-{'max_depth': 44, 'n_estimators': 6} score: 0.9741978909580435\n",
    "    {'n_estimators': [i for i in range(2,10)], 'max_depth': [i for i in range(40,61)]}  \n",
    "    \n",
    "    \n",
    "]"
   ]
  },
  {
   "cell_type": "code",
   "execution_count": 15,
   "metadata": {
    "colab": {
     "base_uri": "https://localhost:8080/",
     "height": 391
    },
    "colab_type": "code",
    "executionInfo": {
     "elapsed": 677,
     "status": "ok",
     "timestamp": 1566794223039,
     "user": {
      "displayName": "Anuroop Raphael.T.J",
      "photoUrl": "https://lh3.googleusercontent.com/a-/AAuE7mDL1orJZ3v_nqD1rq810nW7qYWf-SZ0MDceCk9lig=s64",
      "userId": "15808166267121934928"
     },
     "user_tz": -330
    },
    "id": "yg4T9Li4G9IV",
    "outputId": "c9730864-da93-4253-db68-9ae03a544313"
   },
   "outputs": [
    {
     "data": {
      "text/plain": [
       "[{'max_depth': [40,\n",
       "   41,\n",
       "   42,\n",
       "   43,\n",
       "   44,\n",
       "   45,\n",
       "   46,\n",
       "   47,\n",
       "   48,\n",
       "   49,\n",
       "   50,\n",
       "   51,\n",
       "   52,\n",
       "   53,\n",
       "   54,\n",
       "   55,\n",
       "   56,\n",
       "   57,\n",
       "   58,\n",
       "   59,\n",
       "   60],\n",
       "  'n_estimators': [2, 3, 4, 5, 6, 7, 8, 9]}]"
      ]
     },
     "execution_count": 15,
     "metadata": {
      "tags": []
     },
     "output_type": "execute_result"
    }
   ],
   "source": [
    "param_grid"
   ]
  },
  {
   "cell_type": "code",
   "execution_count": 0,
   "metadata": {
    "colab": {},
    "colab_type": "code",
    "id": "ctKO3q5PHr-Y"
   },
   "outputs": [],
   "source": [
    "grid_search_rf = GridSearchCV(rnd_clf, param_grid, cv=5)"
   ]
  },
  {
   "cell_type": "code",
   "execution_count": 21,
   "metadata": {
    "colab": {
     "base_uri": "https://localhost:8080/",
     "height": 357
    },
    "colab_type": "code",
    "executionInfo": {
     "elapsed": 77517,
     "status": "ok",
     "timestamp": 1566794417117,
     "user": {
      "displayName": "Anuroop Raphael.T.J",
      "photoUrl": "https://lh3.googleusercontent.com/a-/AAuE7mDL1orJZ3v_nqD1rq810nW7qYWf-SZ0MDceCk9lig=s64",
      "userId": "15808166267121934928"
     },
     "user_tz": -330
    },
    "id": "7VjI-dY6G_oY",
    "outputId": "8be7e681-411e-462c-99d8-60dce194c985"
   },
   "outputs": [
    {
     "data": {
      "text/plain": [
       "GridSearchCV(cv=5, error_score='raise-deprecating',\n",
       "             estimator=RandomForestClassifier(bootstrap=True, class_weight=None,\n",
       "                                              criterion='gini', max_depth=None,\n",
       "                                              max_features='auto',\n",
       "                                              max_leaf_nodes=None,\n",
       "                                              min_impurity_decrease=0.0,\n",
       "                                              min_impurity_split=None,\n",
       "                                              min_samples_leaf=1,\n",
       "                                              min_samples_split=2,\n",
       "                                              min_weight_fraction_leaf=0.0,\n",
       "                                              n_estimators='warn', n_jobs=None,\n",
       "                                              oob_score=False, random_state=42,\n",
       "                                              verbose=0, warm_start=False),\n",
       "             iid='warn', n_jobs=None,\n",
       "             param_grid=[{'max_depth': [40, 41, 42, 43, 44, 45, 46, 47, 48, 49,\n",
       "                                        50, 51, 52, 53, 54, 55, 56, 57, 58, 59,\n",
       "                                        60],\n",
       "                          'n_estimators': [2, 3, 4, 5, 6, 7, 8, 9]}],\n",
       "             pre_dispatch='2*n_jobs', refit=True, return_train_score=False,\n",
       "             scoring=None, verbose=0)"
      ]
     },
     "execution_count": 21,
     "metadata": {
      "tags": []
     },
     "output_type": "execute_result"
    }
   ],
   "source": [
    "grid_search_rf.fit(X_train_dtm, y_train)"
   ]
  },
  {
   "cell_type": "code",
   "execution_count": 22,
   "metadata": {
    "colab": {
     "base_uri": "https://localhost:8080/",
     "height": 34
    },
    "colab_type": "code",
    "executionInfo": {
     "elapsed": 967,
     "status": "ok",
     "timestamp": 1566794424195,
     "user": {
      "displayName": "Anuroop Raphael.T.J",
      "photoUrl": "https://lh3.googleusercontent.com/a-/AAuE7mDL1orJZ3v_nqD1rq810nW7qYWf-SZ0MDceCk9lig=s64",
      "userId": "15808166267121934928"
     },
     "user_tz": -330
    },
    "id": "VrWI-wR5IALD",
    "outputId": "4021066d-a67d-48af-a1a1-5bb160f09ac8"
   },
   "outputs": [
    {
     "data": {
      "text/plain": [
       "{'max_depth': 44, 'n_estimators': 6}"
      ]
     },
     "execution_count": 22,
     "metadata": {
      "tags": []
     },
     "output_type": "execute_result"
    }
   ],
   "source": [
    "grid_search_rf.best_params_"
   ]
  },
  {
   "cell_type": "code",
   "execution_count": 23,
   "metadata": {
    "colab": {
     "base_uri": "https://localhost:8080/",
     "height": 34
    },
    "colab_type": "code",
    "executionInfo": {
     "elapsed": 1026,
     "status": "ok",
     "timestamp": 1566794425774,
     "user": {
      "displayName": "Anuroop Raphael.T.J",
      "photoUrl": "https://lh3.googleusercontent.com/a-/AAuE7mDL1orJZ3v_nqD1rq810nW7qYWf-SZ0MDceCk9lig=s64",
      "userId": "15808166267121934928"
     },
     "user_tz": -330
    },
    "id": "1-zbvj2WIw-O",
    "outputId": "18a2b096-a137-447b-d5ac-8372db82d7d5"
   },
   "outputs": [
    {
     "data": {
      "text/plain": [
       "0.9741978909580435"
      ]
     },
     "execution_count": 23,
     "metadata": {
      "tags": []
     },
     "output_type": "execute_result"
    }
   ],
   "source": [
    "grid_search_rf.best_score_"
   ]
  },
  {
   "cell_type": "code",
   "execution_count": 24,
   "metadata": {
    "colab": {
     "base_uri": "https://localhost:8080/",
     "height": 136
    },
    "colab_type": "code",
    "executionInfo": {
     "elapsed": 880,
     "status": "ok",
     "timestamp": 1566794427338,
     "user": {
      "displayName": "Anuroop Raphael.T.J",
      "photoUrl": "https://lh3.googleusercontent.com/a-/AAuE7mDL1orJZ3v_nqD1rq810nW7qYWf-SZ0MDceCk9lig=s64",
      "userId": "15808166267121934928"
     },
     "user_tz": -330
    },
    "id": "lYY5eMnOI0uM",
    "outputId": "ff98a0d6-db76-499e-93bf-26305805647e"
   },
   "outputs": [
    {
     "data": {
      "text/plain": [
       "RandomForestClassifier(bootstrap=True, class_weight=None, criterion='gini',\n",
       "                       max_depth=44, max_features='auto', max_leaf_nodes=None,\n",
       "                       min_impurity_decrease=0.0, min_impurity_split=None,\n",
       "                       min_samples_leaf=1, min_samples_split=2,\n",
       "                       min_weight_fraction_leaf=0.0, n_estimators=6,\n",
       "                       n_jobs=None, oob_score=False, random_state=42, verbose=0,\n",
       "                       warm_start=False)"
      ]
     },
     "execution_count": 24,
     "metadata": {
      "tags": []
     },
     "output_type": "execute_result"
    }
   ],
   "source": [
    "grid_search_rf.best_estimator_"
   ]
  }
 ],
 "metadata": {
  "colab": {
   "name": "04_hyp_param_random_forest.ipynb",
   "provenance": [],
   "version": "0.3.2"
  },
  "kernelspec": {
   "display_name": "Python 3",
   "language": "python",
   "name": "python3"
  },
  "language_info": {
   "codemirror_mode": {
    "name": "ipython",
    "version": 3
   },
   "file_extension": ".py",
   "mimetype": "text/x-python",
   "name": "python",
   "nbconvert_exporter": "python",
   "pygments_lexer": "ipython3",
   "version": "3.6.7"
  }
 },
 "nbformat": 4,
 "nbformat_minor": 1
}
