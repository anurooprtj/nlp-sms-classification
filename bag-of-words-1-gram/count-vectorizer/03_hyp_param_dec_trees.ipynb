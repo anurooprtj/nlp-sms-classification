{
 "cells": [
  {
   "cell_type": "code",
   "execution_count": 1,
   "metadata": {
    "colab": {
     "base_uri": "https://localhost:8080/",
     "height": 122
    },
    "colab_type": "code",
    "executionInfo": {
     "elapsed": 26891,
     "status": "ok",
     "timestamp": 1566791196919,
     "user": {
      "displayName": "Anuroop Raphael.T.J",
      "photoUrl": "https://lh3.googleusercontent.com/a-/AAuE7mDL1orJZ3v_nqD1rq810nW7qYWf-SZ0MDceCk9lig=s64",
      "userId": "15808166267121934928"
     },
     "user_tz": -330
    },
    "id": "1fsaxACZB-Rd",
    "outputId": "7a14df39-5eab-4980-f330-aae15236d545"
   },
   "outputs": [],
   "source": [
    "# from google.colab import drive\n",
    "# drive.mount('/content/drive')"
   ]
  },
  {
   "cell_type": "code",
   "execution_count": 0,
   "metadata": {
    "colab": {},
    "colab_type": "code",
    "id": "0i2Zk3a7Bzm8"
   },
   "outputs": [],
   "source": [
    "import numpy as np\n",
    "import _pickle as pickle"
   ]
  },
  {
   "cell_type": "code",
   "execution_count": 0,
   "metadata": {
    "colab": {},
    "colab_type": "code",
    "id": "xgJ7tfYuCJI6"
   },
   "outputs": [],
   "source": [
    "#Load data\n",
    "with open('/content/drive/My Drive/ML_Data/sms-NLP/sms_train_test.dat', 'rb') as fp:\n",
    "    X_train_dtm = pickle.load(fp)\n",
    "    X_test_dtm = pickle.load(fp)\n",
    "    X_train_tfidf = pickle.load(fp)\n",
    "    X_test_tfidf = pickle.load(fp)\n",
    "    X_train = pickle.load(fp)\n",
    "    X_test = pickle.load(fp) \n",
    "    y_train = pickle.load(fp)\n",
    "    y_test = pickle.load(fp)"
   ]
  },
  {
   "cell_type": "code",
   "execution_count": 4,
   "metadata": {
    "colab": {
     "base_uri": "https://localhost:8080/",
     "height": 85
    },
    "colab_type": "code",
    "executionInfo": {
     "elapsed": 1361,
     "status": "ok",
     "timestamp": 1566791231227,
     "user": {
      "displayName": "Anuroop Raphael.T.J",
      "photoUrl": "https://lh3.googleusercontent.com/a-/AAuE7mDL1orJZ3v_nqD1rq810nW7qYWf-SZ0MDceCk9lig=s64",
      "userId": "15808166267121934928"
     },
     "user_tz": -330
    },
    "id": "XMTRdXxgCLuu",
    "outputId": "fadeb896-ffeb-48b3-dd3d-008af34ab6fd"
   },
   "outputs": [
    {
     "name": "stdout",
     "output_type": "stream",
     "text": [
      "X_train_dtm.shape:  (4457, 7668)\n",
      "X_test_dtm.shape:  (1115, 7668)\n",
      "\n",
      "X_train_dtm.type:  <class 'scipy.sparse.csr.csr_matrix'>\n"
     ]
    }
   ],
   "source": [
    "print(\"X_train_dtm.shape: \", X_train_dtm.shape)\n",
    "print(\"X_test_dtm.shape: \", X_test_dtm.shape)\n",
    "print(\"\\nX_train_dtm.type: \", type(X_train_dtm))"
   ]
  },
  {
   "cell_type": "code",
   "execution_count": 0,
   "metadata": {
    "colab": {},
    "colab_type": "code",
    "id": "IMJ2h4oECOFG"
   },
   "outputs": [],
   "source": [
    "from sklearn.tree import DecisionTreeClassifier\n",
    "from sklearn.model_selection import GridSearchCV"
   ]
  },
  {
   "cell_type": "code",
   "execution_count": 0,
   "metadata": {
    "colab": {},
    "colab_type": "code",
    "id": "rDbyetIYCbwe"
   },
   "outputs": [],
   "source": [
    "tree_clf = DecisionTreeClassifier( criterion= 'gini', random_state = 42)"
   ]
  },
  {
   "cell_type": "code",
   "execution_count": 0,
   "metadata": {
    "colab": {},
    "colab_type": "code",
    "id": "mBhchmBQChHN"
   },
   "outputs": [],
   "source": [
    "param_grid = [\n",
    "#     {'max_depth': [i for i in range(1,50)]} {'max_depth': 44}\n",
    "      {'max_depth': [i for i in range(30,50)]}\n",
    "]"
   ]
  },
  {
   "cell_type": "code",
   "execution_count": 0,
   "metadata": {
    "colab": {},
    "colab_type": "code",
    "id": "MgYX6F28CmX2"
   },
   "outputs": [],
   "source": [
    "grid_search_tree = GridSearchCV(tree_clf, param_grid, cv = 10, verbose = 1)"
   ]
  },
  {
   "cell_type": "code",
   "execution_count": 16,
   "metadata": {
    "colab": {
     "base_uri": "https://localhost:8080/",
     "height": 374
    },
    "colab_type": "code",
    "executionInfo": {
     "elapsed": 23559,
     "status": "ok",
     "timestamp": 1566791646683,
     "user": {
      "displayName": "Anuroop Raphael.T.J",
      "photoUrl": "https://lh3.googleusercontent.com/a-/AAuE7mDL1orJZ3v_nqD1rq810nW7qYWf-SZ0MDceCk9lig=s64",
      "userId": "15808166267121934928"
     },
     "user_tz": -330
    },
    "id": "_L-Og64pCy8n",
    "outputId": "06519057-16a9-414b-eab2-b1d67e00b3db"
   },
   "outputs": [
    {
     "name": "stdout",
     "output_type": "stream",
     "text": [
      "Fitting 10 folds for each of 20 candidates, totalling 200 fits\n"
     ]
    },
    {
     "name": "stderr",
     "output_type": "stream",
     "text": [
      "[Parallel(n_jobs=1)]: Using backend SequentialBackend with 1 concurrent workers.\n",
      "[Parallel(n_jobs=1)]: Done 200 out of 200 | elapsed:   21.9s finished\n"
     ]
    },
    {
     "data": {
      "text/plain": [
       "GridSearchCV(cv=10, error_score='raise-deprecating',\n",
       "             estimator=DecisionTreeClassifier(class_weight=None,\n",
       "                                              criterion='gini', max_depth=None,\n",
       "                                              max_features=None,\n",
       "                                              max_leaf_nodes=None,\n",
       "                                              min_impurity_decrease=0.0,\n",
       "                                              min_impurity_split=None,\n",
       "                                              min_samples_leaf=1,\n",
       "                                              min_samples_split=2,\n",
       "                                              min_weight_fraction_leaf=0.0,\n",
       "                                              presort=False, random_state=42,\n",
       "                                              splitter='best'),\n",
       "             iid='warn', n_jobs=None,\n",
       "             param_grid=[{'max_depth': [30, 31, 32, 33, 34, 35, 36, 37, 38, 39,\n",
       "                                        40, 41, 42, 43, 44, 45, 46, 47, 48,\n",
       "                                        49]}],\n",
       "             pre_dispatch='2*n_jobs', refit=True, return_train_score=False,\n",
       "             scoring=None, verbose=1)"
      ]
     },
     "execution_count": 16,
     "metadata": {
      "tags": []
     },
     "output_type": "execute_result"
    }
   ],
   "source": [
    "grid_search_tree.fit(X_train_dtm, y_train)"
   ]
  },
  {
   "cell_type": "code",
   "execution_count": 17,
   "metadata": {
    "colab": {
     "base_uri": "https://localhost:8080/",
     "height": 34
    },
    "colab_type": "code",
    "executionInfo": {
     "elapsed": 1287,
     "status": "ok",
     "timestamp": 1566791653954,
     "user": {
      "displayName": "Anuroop Raphael.T.J",
      "photoUrl": "https://lh3.googleusercontent.com/a-/AAuE7mDL1orJZ3v_nqD1rq810nW7qYWf-SZ0MDceCk9lig=s64",
      "userId": "15808166267121934928"
     },
     "user_tz": -330
    },
    "id": "t9Rx8WpbDCPF",
    "outputId": "7717deda-014b-459f-d5ae-4fb4f71863fd"
   },
   "outputs": [
    {
     "data": {
      "text/plain": [
       "{'max_depth': 44}"
      ]
     },
     "execution_count": 17,
     "metadata": {
      "tags": []
     },
     "output_type": "execute_result"
    }
   ],
   "source": [
    "grid_search_tree.best_params_"
   ]
  },
  {
   "cell_type": "code",
   "execution_count": 18,
   "metadata": {
    "colab": {
     "base_uri": "https://localhost:8080/",
     "height": 34
    },
    "colab_type": "code",
    "executionInfo": {
     "elapsed": 1147,
     "status": "ok",
     "timestamp": 1566791656708,
     "user": {
      "displayName": "Anuroop Raphael.T.J",
      "photoUrl": "https://lh3.googleusercontent.com/a-/AAuE7mDL1orJZ3v_nqD1rq810nW7qYWf-SZ0MDceCk9lig=s64",
      "userId": "15808166267121934928"
     },
     "user_tz": -330
    },
    "id": "Tbg5vdLzDYdj",
    "outputId": "df4d4ba8-5fe2-40f7-9e8c-756573f0db7d"
   },
   "outputs": [
    {
     "data": {
      "text/plain": [
       "0.9685887368184878"
      ]
     },
     "execution_count": 18,
     "metadata": {
      "tags": []
     },
     "output_type": "execute_result"
    }
   ],
   "source": [
    "grid_search_tree.best_score_"
   ]
  },
  {
   "cell_type": "code",
   "execution_count": 19,
   "metadata": {
    "colab": {
     "base_uri": "https://localhost:8080/",
     "height": 119
    },
    "colab_type": "code",
    "executionInfo": {
     "elapsed": 1103,
     "status": "ok",
     "timestamp": 1566791659703,
     "user": {
      "displayName": "Anuroop Raphael.T.J",
      "photoUrl": "https://lh3.googleusercontent.com/a-/AAuE7mDL1orJZ3v_nqD1rq810nW7qYWf-SZ0MDceCk9lig=s64",
      "userId": "15808166267121934928"
     },
     "user_tz": -330
    },
    "id": "MssXl0UNDSRr",
    "outputId": "c667b280-378e-49b3-f192-1437ca4a1e6c"
   },
   "outputs": [
    {
     "data": {
      "text/plain": [
       "DecisionTreeClassifier(class_weight=None, criterion='gini', max_depth=44,\n",
       "                       max_features=None, max_leaf_nodes=None,\n",
       "                       min_impurity_decrease=0.0, min_impurity_split=None,\n",
       "                       min_samples_leaf=1, min_samples_split=2,\n",
       "                       min_weight_fraction_leaf=0.0, presort=False,\n",
       "                       random_state=42, splitter='best')"
      ]
     },
     "execution_count": 19,
     "metadata": {
      "tags": []
     },
     "output_type": "execute_result"
    }
   ],
   "source": [
    "grid_search_tree.best_estimator_"
   ]
  },
  {
   "cell_type": "code",
   "execution_count": 0,
   "metadata": {
    "colab": {},
    "colab_type": "code",
    "id": "XF37ugyQD2vv"
   },
   "outputs": [],
   "source": []
  }
 ],
 "metadata": {
  "accelerator": "GPU",
  "colab": {
   "name": "03_hyp_param_dec_trees.ipynb",
   "provenance": [],
   "version": "0.3.2"
  },
  "kernelspec": {
   "display_name": "Python 3",
   "language": "python",
   "name": "python3"
  },
  "language_info": {
   "codemirror_mode": {
    "name": "ipython",
    "version": 3
   },
   "file_extension": ".py",
   "mimetype": "text/x-python",
   "name": "python",
   "nbconvert_exporter": "python",
   "pygments_lexer": "ipython3",
   "version": "3.6.7"
  }
 },
 "nbformat": 4,
 "nbformat_minor": 1
}
