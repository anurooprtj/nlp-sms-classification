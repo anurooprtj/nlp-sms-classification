{
 "cells": [
  {
   "cell_type": "code",
   "execution_count": 4,
   "metadata": {
    "colab": {
     "base_uri": "https://localhost:8080/",
     "height": 34
    },
    "colab_type": "code",
    "id": "jMrz_Wh6HQ-Y",
    "outputId": "b2cf6c90-73d7-4044-98bd-f285caa91bbb"
   },
   "outputs": [
    {
     "name": "stdout",
     "output_type": "stream",
     "text": [
      "Drive already mounted at /content/drive; to attempt to forcibly remount, call drive.mount(\"/content/drive\", force_remount=True).\n"
     ]
    }
   ],
   "source": [
    "from google.colab import drive\n",
    "drive.mount('/content/drive')"
   ]
  },
  {
   "cell_type": "code",
   "execution_count": 0,
   "metadata": {
    "colab": {},
    "colab_type": "code",
    "id": "8gsLQh1ZGtro"
   },
   "outputs": [],
   "source": [
    "import numpy as np\n",
    "import pandas as pd\n",
    "import _pickle as pickle\n",
    "\n",
    "import matplotlib.pyplot as plt\n",
    "%matplotlib inline\n",
    "\n",
    "from sklearn.model_selection import cross_val_score\n",
    "from sklearn.metrics import confusion_matrix\n",
    "from sklearn.metrics import precision_score, recall_score, f1_score"
   ]
  },
  {
   "cell_type": "code",
   "execution_count": 0,
   "metadata": {
    "colab": {},
    "colab_type": "code",
    "id": "H7aQQyQXGtrt"
   },
   "outputs": [],
   "source": [
    "#Load data\n",
    "with open('/content/drive/My Drive/ML_Data/sms-NLP/sms_train_test.dat', 'rb') as fp:\n",
    "    X_train_dtm = pickle.load(fp)\n",
    "    X_test_dtm = pickle.load(fp)\n",
    "    X_train_tfidf = pickle.load(fp)\n",
    "    X_test_tfidf = pickle.load(fp)\n",
    "    X_train = pickle.load(fp)\n",
    "    X_test = pickle.load(fp) \n",
    "    y_train = pickle.load(fp)\n",
    "    y_test = pickle.load(fp)"
   ]
  },
  {
   "cell_type": "code",
   "execution_count": 7,
   "metadata": {
    "colab": {
     "base_uri": "https://localhost:8080/",
     "height": 153
    },
    "colab_type": "code",
    "id": "jW0exc81Gtrw",
    "outputId": "3a2cc97c-9228-4066-d7f5-a7c7ef3b0c6a"
   },
   "outputs": [
    {
     "name": "stdout",
     "output_type": "stream",
     "text": [
      "X_train_dtm.shape:  (4457, 7668)\n",
      "X_test_dtm.shape:  (1115, 7668)\n",
      "X_train_tfidf.shape:  (4457, 7668)\n",
      "X_test_tfidf.shape:  (1115, 7668)\n",
      "y_train.shape:  (4457,)\n",
      "y_test.shape:  (1115,)\n",
      "\n",
      "X_train_dtm.type:  <class 'scipy.sparse.csr.csr_matrix'>\n"
     ]
    }
   ],
   "source": [
    "print(\"X_train_dtm.shape: \", X_train_dtm.shape)\n",
    "print(\"X_test_dtm.shape: \", X_test_dtm.shape)\n",
    "print(\"X_train_tfidf.shape: \", X_train_tfidf.shape)\n",
    "print(\"X_test_tfidf.shape: \", X_test_tfidf.shape)\n",
    "print(\"y_train.shape: \", y_train.shape)\n",
    "print(\"y_test.shape: \", y_test.shape)\n",
    "\n",
    "print(\"\\nX_train_dtm.type: \", type(X_train_dtm))"
   ]
  },
  {
   "cell_type": "code",
   "execution_count": 0,
   "metadata": {
    "colab": {},
    "colab_type": "code",
    "id": "xQDMJYVxGtr2"
   },
   "outputs": [],
   "source": [
    "scores =  []\n",
    "mean_scores = []"
   ]
  },
  {
   "cell_type": "markdown",
   "metadata": {
    "colab_type": "text",
    "id": "wK47zI74Gtr5"
   },
   "source": [
    "## Machine Learning Classification methods implementation "
   ]
  },
  {
   "cell_type": "markdown",
   "metadata": {
    "colab_type": "text",
    "id": "f_Mx04AwGtr6"
   },
   "source": [
    "### 1. Logistic Regression "
   ]
  },
  {
   "cell_type": "code",
   "execution_count": 0,
   "metadata": {
    "colab": {},
    "colab_type": "code",
    "id": "7uD8qyGrGtr7"
   },
   "outputs": [],
   "source": [
    "from sklearn.linear_model import LogisticRegression"
   ]
  },
  {
   "cell_type": "code",
   "execution_count": 10,
   "metadata": {
    "colab": {
     "base_uri": "https://localhost:8080/",
     "height": 85
    },
    "colab_type": "code",
    "id": "F0yLsFbuGtr-",
    "outputId": "ec884b28-4d3b-4d6e-b80e-7375b9930dad"
   },
   "outputs": [
    {
     "name": "stdout",
     "output_type": "stream",
     "text": [
      "log_scores:  [0.97757848 0.98206278 0.97982063 0.98654709 0.99327354 0.97757848\n",
      " 0.98206278 0.97757848 0.97752809 0.98423423]\n",
      "Mean score:  0.9818264566274342\n",
      "Std deviation:  0.004856588753484543\n"
     ]
    }
   ],
   "source": [
    "lr_clf = LogisticRegression(solver = \"lbfgs\", random_state = 42)\n",
    "\n",
    "lr_scores = cross_val_score(lr_clf, X_train_dtm, y_train, cv = 10)\n",
    "print(\"log_scores: \", lr_scores)\n",
    "print(\"Mean score: \", lr_scores.mean())\n",
    "print(\"Std deviation: \", lr_scores.std())\n",
    "\n",
    "lr_ms = \"{0:.4f}\".format(lr_scores.mean()) + \" +/- \" + \"{0:.4f}\".format(lr_scores.std())\n",
    "mean_scores.append(lr_ms)"
   ]
  },
  {
   "cell_type": "code",
   "execution_count": 11,
   "metadata": {
    "colab": {
     "base_uri": "https://localhost:8080/",
     "height": 102
    },
    "colab_type": "code",
    "id": "BpcLp_pIGtsD",
    "outputId": "b97dffdd-0cf0-45bb-f5b3-4b3f50bcc221"
   },
   "outputs": [
    {
     "data": {
      "text/plain": [
       "LogisticRegression(C=1.0, class_weight=None, dual=False, fit_intercept=True,\n",
       "                   intercept_scaling=1, l1_ratio=None, max_iter=100,\n",
       "                   multi_class='warn', n_jobs=None, penalty='l2',\n",
       "                   random_state=42, solver='lbfgs', tol=0.0001, verbose=0,\n",
       "                   warm_start=False)"
      ]
     },
     "execution_count": 11,
     "metadata": {
      "tags": []
     },
     "output_type": "execute_result"
    }
   ],
   "source": [
    "lr_clf.fit(X_train_dtm, y_train)"
   ]
  },
  {
   "cell_type": "code",
   "execution_count": 12,
   "metadata": {
    "colab": {
     "base_uri": "https://localhost:8080/",
     "height": 51
    },
    "colab_type": "code",
    "id": "iqANGLwPGtsG",
    "outputId": "b14d0d2d-fcb0-4c25-c161-489f9428173b"
   },
   "outputs": [
    {
     "name": "stdout",
     "output_type": "stream",
     "text": [
      "0.9811659192825112\n",
      "[0 0 0 1 0 0 0 0 0 0]\n"
     ]
    }
   ],
   "source": [
    "lr_score = lr_clf.score(X_test_dtm, y_test)\n",
    "print(lr_score)\n",
    "scores.append(lr_score)\n",
    "\n",
    "lr_y_pred = lr_clf.predict(X_test_dtm)\n",
    "print(lr_y_pred[:10])"
   ]
  },
  {
   "cell_type": "code",
   "execution_count": 13,
   "metadata": {
    "colab": {
     "base_uri": "https://localhost:8080/",
     "height": 68
    },
    "colab_type": "code",
    "id": "tFg6NiqFGtsJ",
    "outputId": "864d22a2-0d1d-4628-c20b-87492666efe5"
   },
   "outputs": [
    {
     "name": "stdout",
     "output_type": "stream",
     "text": [
      "966 0 21 128\n",
      "[[966   0]\n",
      " [ 21 128]]\n"
     ]
    }
   ],
   "source": [
    "lr_confMatrix = confusion_matrix(y_true=y_test, y_pred=lr_y_pred)\n",
    "tn, fp, fn, tp = confusion_matrix(y_true=y_test, y_pred=lr_y_pred).ravel()\n",
    "print(tn, fp, fn, tp)\n",
    "\n",
    "print(lr_confMatrix)"
   ]
  },
  {
   "cell_type": "code",
   "execution_count": 14,
   "metadata": {
    "colab": {
     "base_uri": "https://localhost:8080/",
     "height": 68
    },
    "colab_type": "code",
    "id": "w5XrhUzvGtsN",
    "outputId": "766d397d-e8fa-45f6-d80a-60a32209acd3"
   },
   "outputs": [
    {
     "name": "stdout",
     "output_type": "stream",
     "text": [
      "Precision: 1.000\n",
      "Recall: 0.859\n",
      "F1: 0.924\n"
     ]
    }
   ],
   "source": [
    "print('Precision: %.3f' % precision_score(y_true=y_test, y_pred=lr_y_pred))\n",
    "print('Recall: %.3f' % recall_score(y_true=y_test, y_pred=lr_y_pred))\n",
    "print('F1: %.3f' % f1_score(y_true=y_test, y_pred=lr_y_pred))"
   ]
  },
  {
   "cell_type": "markdown",
   "metadata": {
    "colab_type": "text",
    "id": "8FArwRDkOwto"
   },
   "source": [
    "### 2.1 Support Vector Machines - SVM linear"
   ]
  },
  {
   "cell_type": "code",
   "execution_count": 0,
   "metadata": {
    "colab": {},
    "colab_type": "code",
    "id": "zti40F3CGtsU"
   },
   "outputs": [],
   "source": [
    "from sklearn.svm import SVC"
   ]
  },
  {
   "cell_type": "code",
   "execution_count": 0,
   "metadata": {
    "colab": {},
    "colab_type": "code",
    "id": "PFwMIF6S8TKL"
   },
   "outputs": [],
   "source": [
    "#Best estimator from 02_hyp_param_svm\n",
    "svm_lr_clf = SVC(C=0.4, cache_size=200, class_weight=None, coef0=0.0,\n",
    "    decision_function_shape='ovr', degree=3, gamma='auto_deprecated',\n",
    "    kernel='linear', max_iter=-1, probability=False, random_state=42,\n",
    "    shrinking=True, tol=0.001, verbose=False)"
   ]
  },
  {
   "cell_type": "code",
   "execution_count": 17,
   "metadata": {
    "colab": {
     "base_uri": "https://localhost:8080/",
     "height": 102
    },
    "colab_type": "code",
    "id": "mSmfZUBw8lda",
    "outputId": "9617489d-08f5-428b-b81b-259d3e41e6d7"
   },
   "outputs": [
    {
     "name": "stdout",
     "output_type": "stream",
     "text": [
      "svm_lr_scores:  [0.98206278 0.98654709 0.98206278 0.98654709 0.99327354 0.98206278\n",
      " 0.98654709 0.97982063 0.98202247 0.98873874]\n",
      "Mean score:  0.9849684977464994\n",
      "Std deviation:  0.003888103877191339\n",
      "['0.9818 +/- 0.0049', '0.9850 +/- 0.0039']\n"
     ]
    }
   ],
   "source": [
    "svm_lr_scores = cross_val_score(svm_lr_clf, X_train_dtm, y_train, cv = 10)\n",
    "print(\"svm_lr_scores: \", svm_lr_scores)\n",
    "print(\"Mean score: \", svm_lr_scores.mean())\n",
    "print(\"Std deviation: \", svm_lr_scores.std())\n",
    "\n",
    "svm_lr_ms = \"{0:.4f}\".format(svm_lr_scores.mean()) + \" +/- \" + \"{0:.4f}\".format(svm_lr_scores.std())\n",
    "mean_scores.append(svm_lr_ms)\n",
    "print(mean_scores)"
   ]
  },
  {
   "cell_type": "code",
   "execution_count": 18,
   "metadata": {
    "colab": {
     "base_uri": "https://localhost:8080/",
     "height": 34
    },
    "colab_type": "code",
    "id": "iO_kMclS91Wg",
    "outputId": "0a282b14-2c5a-4afc-c43a-18310a02dbcb"
   },
   "outputs": [
    {
     "data": {
      "text/plain": [
       "0.9829596412556054"
      ]
     },
     "execution_count": 18,
     "metadata": {
      "tags": []
     },
     "output_type": "execute_result"
    }
   ],
   "source": [
    "svm_lr_clf.fit(X_train_dtm, y_train)\n",
    "svm_lr_score = svm_lr_clf.score(X_test_dtm, y_test)\n",
    "scores.append(svm_lr_score)                                          \n",
    "svm_lr_score"
   ]
  },
  {
   "cell_type": "code",
   "execution_count": 19,
   "metadata": {
    "colab": {
     "base_uri": "https://localhost:8080/",
     "height": 34
    },
    "colab_type": "code",
    "id": "Ed5rdj6g88qu",
    "outputId": "d4070bc2-bfc4-4d33-bf38-4f6647b8a70e"
   },
   "outputs": [
    {
     "data": {
      "text/plain": [
       "array([0, 0, 0, 1, 0, 0, 0, 0, 0, 0])"
      ]
     },
     "execution_count": 19,
     "metadata": {
      "tags": []
     },
     "output_type": "execute_result"
    }
   ],
   "source": [
    "svm_lr_y_pred = svm_lr_clf.predict(X_test_dtm) \n",
    "svm_lr_y_pred[:10]"
   ]
  },
  {
   "cell_type": "code",
   "execution_count": 20,
   "metadata": {
    "colab": {
     "base_uri": "https://localhost:8080/",
     "height": 51
    },
    "colab_type": "code",
    "id": "9o_wQywF-4hI",
    "outputId": "21918499-5e2e-401a-b5b7-7d59d15e9b43"
   },
   "outputs": [
    {
     "data": {
      "text/plain": [
       "array([[966,   0],\n",
       "       [ 19, 130]])"
      ]
     },
     "execution_count": 20,
     "metadata": {
      "tags": []
     },
     "output_type": "execute_result"
    }
   ],
   "source": [
    "svm_lr_clf_confMatrix = confusion_matrix(y_true=y_test, y_pred=svm_lr_y_pred)\n",
    "svm_lr_clf_confMatrix"
   ]
  },
  {
   "cell_type": "code",
   "execution_count": 21,
   "metadata": {
    "colab": {
     "base_uri": "https://localhost:8080/",
     "height": 68
    },
    "colab_type": "code",
    "id": "SbR0vfb6_Fih",
    "outputId": "0d2881da-7a8a-4dc0-8203-a169a30c9da0"
   },
   "outputs": [
    {
     "name": "stdout",
     "output_type": "stream",
     "text": [
      "Precision: 1.000\n",
      "Recall: 0.872\n",
      "F1: 0.932\n"
     ]
    }
   ],
   "source": [
    "print('Precision: %.3f' % precision_score(y_true=y_test, y_pred=svm_lr_y_pred))\n",
    "print('Recall: %.3f' % recall_score(y_true=y_test, y_pred=svm_lr_y_pred))\n",
    "print('F1: %.3f' % f1_score(y_true=y_test, y_pred=svm_lr_y_pred))"
   ]
  },
  {
   "cell_type": "markdown",
   "metadata": {
    "colab_type": "text",
    "id": "C_OMdw5m_VJF"
   },
   "source": [
    "### 2.2 Support Vector Machines - SVC Kernal(rbf)"
   ]
  },
  {
   "cell_type": "code",
   "execution_count": 0,
   "metadata": {
    "colab": {},
    "colab_type": "code",
    "id": "WDL8Y8i4_SsC"
   },
   "outputs": [],
   "source": [
    "#Best estimator from 02_hyp_param_svm\n",
    "svm_rbf_clf = SVC(C=30, cache_size=200, class_weight=None, coef0=0.0,\n",
    "    decision_function_shape='ovr', degree=3, gamma=0.1, kernel='rbf',\n",
    "    max_iter=-1, probability=False, random_state=42, shrinking=True, tol=0.001,\n",
    "    verbose=False)"
   ]
  },
  {
   "cell_type": "code",
   "execution_count": 23,
   "metadata": {
    "colab": {
     "base_uri": "https://localhost:8080/",
     "height": 102
    },
    "colab_type": "code",
    "id": "Q_k1Zyf5_mhN",
    "outputId": "8cae6cf0-fcbb-48bb-eeb7-2b82a5d7bf14"
   },
   "outputs": [
    {
     "name": "stdout",
     "output_type": "stream",
     "text": [
      "svm_rbf_scores:  [0.97085202 0.96412556 0.96860987 0.96188341 0.96860987 0.96860987\n",
      " 0.95964126 0.95515695 0.95280899 0.96621622]\n",
      "Mean score:  0.963651399421793\n",
      "Std deviation:  0.005842360421115627\n",
      "['0.9818 +/- 0.0049', '0.9850 +/- 0.0039', '0.9637 +/- 0.0058']\n"
     ]
    }
   ],
   "source": [
    "svm_rbf_scores = cross_val_score(svm_rbf_clf, X_train_dtm, y_train, cv = 10)\n",
    "\n",
    "print(\"svm_rbf_scores: \", svm_rbf_scores)\n",
    "print(\"Mean score: \", svm_rbf_scores.mean())\n",
    "print(\"Std deviation: \", svm_rbf_scores.std())\n",
    "\n",
    "svm_rbf_ms = \"{0:.4f}\".format(svm_rbf_scores.mean()) + \" +/- \" + \"{0:.4f}\".format(svm_rbf_scores.std())\n",
    "mean_scores.append(svm_rbf_ms)\n",
    "print(mean_scores)"
   ]
  },
  {
   "cell_type": "code",
   "execution_count": 24,
   "metadata": {
    "colab": {
     "base_uri": "https://localhost:8080/",
     "height": 34
    },
    "colab_type": "code",
    "id": "Y8n4kVcUARH8",
    "outputId": "4e958600-185a-4a1a-99dc-7137562686eb"
   },
   "outputs": [
    {
     "data": {
      "text/plain": [
       "0.9659192825112107"
      ]
     },
     "execution_count": 24,
     "metadata": {
      "tags": []
     },
     "output_type": "execute_result"
    }
   ],
   "source": [
    "svm_rbf_clf.fit(X_train_dtm, y_train)\n",
    "\n",
    "svm_rbf_score = svm_rbf_clf.score(X_test_dtm, y_test)\n",
    "scores.append(svm_rbf_score)                                          \n",
    "svm_rbf_score"
   ]
  },
  {
   "cell_type": "code",
   "execution_count": 25,
   "metadata": {
    "colab": {
     "base_uri": "https://localhost:8080/",
     "height": 34
    },
    "colab_type": "code",
    "id": "Cr5xPFxRAxIx",
    "outputId": "981b71c6-7ee3-4c2c-a0ea-a056bf3ab142"
   },
   "outputs": [
    {
     "data": {
      "text/plain": [
       "array([0, 0, 0, 1, 0, 0, 0, 0, 0, 0])"
      ]
     },
     "execution_count": 25,
     "metadata": {
      "tags": []
     },
     "output_type": "execute_result"
    }
   ],
   "source": [
    "svm_rbf_y_pred = svm_rbf_clf.predict(X_test_dtm)\n",
    "svm_rbf_y_pred[:10]"
   ]
  },
  {
   "cell_type": "code",
   "execution_count": 26,
   "metadata": {
    "colab": {
     "base_uri": "https://localhost:8080/",
     "height": 51
    },
    "colab_type": "code",
    "id": "HvYkcChwBMEs",
    "outputId": "1158d3e1-c99a-4164-a274-569450d78b34"
   },
   "outputs": [
    {
     "data": {
      "text/plain": [
       "array([[966,   0],\n",
       "       [ 38, 111]])"
      ]
     },
     "execution_count": 26,
     "metadata": {
      "tags": []
     },
     "output_type": "execute_result"
    }
   ],
   "source": [
    "svm_rbf_confMatrix = confusion_matrix(y_true = y_test, y_pred = svm_rbf_y_pred)\n",
    "svm_rbf_confMatrix"
   ]
  },
  {
   "cell_type": "code",
   "execution_count": 27,
   "metadata": {
    "colab": {
     "base_uri": "https://localhost:8080/",
     "height": 68
    },
    "colab_type": "code",
    "id": "vXhPqRwWBbcQ",
    "outputId": "3f7244ca-4db3-4236-8478-4a8afe79ef71"
   },
   "outputs": [
    {
     "name": "stdout",
     "output_type": "stream",
     "text": [
      "Precision: 1.000\n",
      "Recall: 0.745\n",
      "F1: 0.854\n"
     ]
    }
   ],
   "source": [
    "print('Precision: %.3f' % precision_score(y_true=y_test, y_pred=svm_rbf_y_pred))\n",
    "print('Recall: %.3f' % recall_score(y_true=y_test, y_pred=svm_rbf_y_pred))\n",
    "print('F1: %.3f' % f1_score(y_true=y_test, y_pred=svm_rbf_y_pred))"
   ]
  },
  {
   "cell_type": "markdown",
   "metadata": {
    "colab_type": "text",
    "id": "kjwgK7YeD6oc"
   },
   "source": [
    "### Decision Tree Classifier"
   ]
  },
  {
   "cell_type": "code",
   "execution_count": 0,
   "metadata": {
    "colab": {},
    "colab_type": "code",
    "id": "RTwgOpl8Bi2g"
   },
   "outputs": [],
   "source": [
    "from sklearn.tree import DecisionTreeClassifier"
   ]
  },
  {
   "cell_type": "code",
   "execution_count": 0,
   "metadata": {
    "colab": {},
    "colab_type": "code",
    "id": "F61kvZdJD-eu"
   },
   "outputs": [],
   "source": [
    "#Best model from 03_hyp_param_dec_tree\n",
    "tree_clf = DecisionTreeClassifier(class_weight=None, criterion='gini', max_depth=44,\n",
    "                       max_features=None, max_leaf_nodes=None,\n",
    "                       min_impurity_decrease=0.0, min_impurity_split=None,\n",
    "                       min_samples_leaf=1, min_samples_split=2,\n",
    "                       min_weight_fraction_leaf=0.0, presort=False,\n",
    "                       random_state=42, splitter='best')"
   ]
  },
  {
   "cell_type": "code",
   "execution_count": 30,
   "metadata": {
    "colab": {
     "base_uri": "https://localhost:8080/",
     "height": 0
    },
    "colab_type": "code",
    "id": "9bkKK9qAENYK",
    "outputId": "b2ab0591-56e8-460d-ecd2-449f71aeb9b2"
   },
   "outputs": [
    {
     "name": "stdout",
     "output_type": "stream",
     "text": [
      "tree_clf_scores:  [0.97982063 0.97533632 0.98206278 0.96412556 0.96860987 0.96636771\n",
      " 0.96636771 0.9529148  0.95955056 0.97072072]\n",
      "Mean score:  0.9685876663684393\n",
      "Std deviation:  0.008455339882173285\n",
      "['0.9818 +/- 0.0049', '0.9850 +/- 0.0039', '0.9637 +/- 0.0058', '0.9686 +/- 0.0085']\n"
     ]
    }
   ],
   "source": [
    "tree_clf_scores = cross_val_score(tree_clf, X_train_dtm, y_train, cv = 10)\n",
    "\n",
    "print(\"tree_clf_scores: \", tree_clf_scores)\n",
    "print(\"Mean score: \", tree_clf_scores.mean())\n",
    "print(\"Std deviation: \", tree_clf_scores.std())\n",
    "\n",
    "tree_clf_ms = \"{0:.4f}\".format(tree_clf_scores.mean()) + \" +/- \" + \"{0:.4f}\".format(tree_clf_scores.std())\n",
    "mean_scores.append(tree_clf_ms)\n",
    "print(mean_scores)"
   ]
  },
  {
   "cell_type": "code",
   "execution_count": 31,
   "metadata": {
    "colab": {
     "base_uri": "https://localhost:8080/",
     "height": 0
    },
    "colab_type": "code",
    "id": "18e1MawMEgPy",
    "outputId": "b4338466-a8bc-4e78-ecca-14568ff27784"
   },
   "outputs": [
    {
     "data": {
      "text/plain": [
       "0.968609865470852"
      ]
     },
     "execution_count": 31,
     "metadata": {
      "tags": []
     },
     "output_type": "execute_result"
    }
   ],
   "source": [
    "tree_clf.fit(X_train_dtm, y_train)\n",
    "\n",
    "tree_clf_score = tree_clf.score(X_test_dtm, y_test)\n",
    "scores.append(tree_clf_score)\n",
    "tree_clf_score"
   ]
  },
  {
   "cell_type": "code",
   "execution_count": 32,
   "metadata": {
    "colab": {
     "base_uri": "https://localhost:8080/",
     "height": 0
    },
    "colab_type": "code",
    "id": "_eZeRtqrEyYr",
    "outputId": "2d3e1a1a-925e-4466-81a9-e8e520b62a5f"
   },
   "outputs": [
    {
     "data": {
      "text/plain": [
       "array([0, 0, 0, 1, 0, 0, 0, 0, 0, 0])"
      ]
     },
     "execution_count": 32,
     "metadata": {
      "tags": []
     },
     "output_type": "execute_result"
    }
   ],
   "source": [
    "tree_clf_y_pred = tree_clf.predict(X_test_dtm)\n",
    "tree_clf_y_pred[:10]"
   ]
  },
  {
   "cell_type": "code",
   "execution_count": 33,
   "metadata": {
    "colab": {
     "base_uri": "https://localhost:8080/",
     "height": 0
    },
    "colab_type": "code",
    "id": "lgOuNsgVE8zF",
    "outputId": "8d48929f-13cc-44f2-8d02-174798e61e6c"
   },
   "outputs": [
    {
     "data": {
      "text/plain": [
       "array([[950,  16],\n",
       "       [ 19, 130]])"
      ]
     },
     "execution_count": 33,
     "metadata": {
      "tags": []
     },
     "output_type": "execute_result"
    }
   ],
   "source": [
    "tree_clf_confMatrix = confusion_matrix(y_true = y_test, y_pred = tree_clf_y_pred)\n",
    "tree_clf_confMatrix"
   ]
  },
  {
   "cell_type": "code",
   "execution_count": 34,
   "metadata": {
    "colab": {
     "base_uri": "https://localhost:8080/",
     "height": 0
    },
    "colab_type": "code",
    "id": "rJUCx1pEFNp_",
    "outputId": "cc1b9951-3249-4c85-adb5-0d600b592b93"
   },
   "outputs": [
    {
     "name": "stdout",
     "output_type": "stream",
     "text": [
      "Precision: 0.890\n",
      "Recall: 0.872\n",
      "F1: 0.881\n"
     ]
    }
   ],
   "source": [
    "print('Precision: %.3f' % precision_score(y_true=y_test, y_pred=tree_clf_y_pred))\n",
    "print('Recall: %.3f' % recall_score(y_true=y_test, y_pred=tree_clf_y_pred))\n",
    "print('F1: %.3f' % f1_score(y_true=y_test, y_pred=tree_clf_y_pred))"
   ]
  },
  {
   "cell_type": "markdown",
   "metadata": {
    "colab_type": "text",
    "id": "Lcpuj1qTKwf3"
   },
   "source": [
    "### 4. Random Forest Classifier"
   ]
  },
  {
   "cell_type": "code",
   "execution_count": 0,
   "metadata": {
    "colab": {},
    "colab_type": "code",
    "id": "Vol3vnPPFgNn"
   },
   "outputs": [],
   "source": [
    "from sklearn.ensemble import RandomForestClassifier"
   ]
  },
  {
   "cell_type": "code",
   "execution_count": 0,
   "metadata": {
    "colab": {},
    "colab_type": "code",
    "id": "0XYiSassLQvV"
   },
   "outputs": [],
   "source": [
    "#Best estimator from 04_hyp_param_random_forest\n",
    "rf_clf = RandomForestClassifier(bootstrap=True, class_weight=None, criterion='gini',\n",
    "                       max_depth=44, max_features='auto', max_leaf_nodes=None,\n",
    "                       min_impurity_decrease=0.0, min_impurity_split=None,\n",
    "                       min_samples_leaf=1, min_samples_split=2,\n",
    "                       min_weight_fraction_leaf=0.0, n_estimators=6,\n",
    "                       n_jobs=None, oob_score=False, random_state=42, verbose=0,\n",
    "                       warm_start=False)"
   ]
  },
  {
   "cell_type": "code",
   "execution_count": 37,
   "metadata": {
    "colab": {
     "base_uri": "https://localhost:8080/",
     "height": 0
    },
    "colab_type": "code",
    "id": "WW3wSzihOqvv",
    "outputId": "863c84e7-e47d-4804-b290-0ad9bad2b3d5"
   },
   "outputs": [
    {
     "name": "stdout",
     "output_type": "stream",
     "text": [
      "rf_clf_scores:  [0.97309417 0.96860987 0.96412556 0.97085202 0.97757848 0.96636771\n",
      " 0.97533632 0.96412556 0.9752809  0.96621622]\n",
      "Mean:  0.9701586801191275\n",
      "Standard Deviation:  0.004714940454769304\n",
      "['0.9818 +/- 0.0049', '0.9850 +/- 0.0039', '0.9637 +/- 0.0058', '0.9686 +/- 0.0085', '0.9702 +/- 0.0047']\n"
     ]
    }
   ],
   "source": [
    "rf_clf_scores = cross_val_score(rf_clf, X_train_dtm, y_train, cv = 10)\n",
    "\n",
    "print(\"rf_clf_scores: \", rf_clf_scores)\n",
    "print(\"Mean: \", rf_clf_scores.mean())\n",
    "print(\"Standard Deviation: \", rf_clf_scores.std())\n",
    "\n",
    "rf_clf_ms = \"{0:.4f}\".format(rf_clf_scores.mean()) + \" +/- \" + \"{0:.4f}\".format(rf_clf_scores.std())\n",
    "mean_scores.append(rf_clf_ms)\n",
    "print(mean_scores)"
   ]
  },
  {
   "cell_type": "code",
   "execution_count": 38,
   "metadata": {
    "colab": {
     "base_uri": "https://localhost:8080/",
     "height": 0
    },
    "colab_type": "code",
    "id": "c6MKwp9yPWoK",
    "outputId": "2315fd4d-16c5-42ef-8706-08c1f9e433a1"
   },
   "outputs": [
    {
     "data": {
      "text/plain": [
       "0.968609865470852"
      ]
     },
     "execution_count": 38,
     "metadata": {
      "tags": []
     },
     "output_type": "execute_result"
    }
   ],
   "source": [
    "rf_clf.fit(X_train_dtm, y_train)\n",
    "\n",
    "rf_clf_score = rf_clf.score(X_test_dtm, y_test)\n",
    "scores.append(rf_clf_score)\n",
    "rf_clf_score"
   ]
  },
  {
   "cell_type": "code",
   "execution_count": 39,
   "metadata": {
    "colab": {
     "base_uri": "https://localhost:8080/",
     "height": 0
    },
    "colab_type": "code",
    "id": "IC1K_b2tPm3o",
    "outputId": "1dc9d209-5b85-4d5e-e937-8a3de850c269"
   },
   "outputs": [
    {
     "data": {
      "text/plain": [
       "array([0, 0, 0, 1, 0, 0, 0, 0, 0, 0])"
      ]
     },
     "execution_count": 39,
     "metadata": {
      "tags": []
     },
     "output_type": "execute_result"
    }
   ],
   "source": [
    "rf_clf_y_pred = rf_clf.predict(X_test_dtm)\n",
    "rf_clf_y_pred[:10]"
   ]
  },
  {
   "cell_type": "code",
   "execution_count": 40,
   "metadata": {
    "colab": {
     "base_uri": "https://localhost:8080/",
     "height": 0
    },
    "colab_type": "code",
    "id": "6ekSmMlIPwyx",
    "outputId": "f8a61227-0d29-42d9-e6cf-e887f4a0d7ef"
   },
   "outputs": [
    {
     "data": {
      "text/plain": [
       "array([[964,   2],\n",
       "       [ 33, 116]])"
      ]
     },
     "execution_count": 40,
     "metadata": {
      "tags": []
     },
     "output_type": "execute_result"
    }
   ],
   "source": [
    "rf_clf_confMatrix = confusion_matrix(y_true = y_test, y_pred = rf_clf_y_pred)\n",
    "rf_clf_confMatrix"
   ]
  },
  {
   "cell_type": "code",
   "execution_count": 41,
   "metadata": {
    "colab": {
     "base_uri": "https://localhost:8080/",
     "height": 0
    },
    "colab_type": "code",
    "id": "wsZvf1ukP76E",
    "outputId": "b92a7af4-a347-4d9a-d2f6-cba7f78f9917"
   },
   "outputs": [
    {
     "name": "stdout",
     "output_type": "stream",
     "text": [
      "Precision: 0.890\n",
      "Recall: 0.872\n",
      "F1: 0.881\n"
     ]
    }
   ],
   "source": [
    "print('Precision: %.3f' % precision_score(y_true=y_test, y_pred=tree_clf_y_pred))\n",
    "print('Recall: %.3f' % recall_score(y_true=y_test, y_pred=tree_clf_y_pred))\n",
    "print('F1: %.3f' % f1_score(y_true=y_test, y_pred=tree_clf_y_pred))"
   ]
  },
  {
   "cell_type": "markdown",
   "metadata": {
    "colab_type": "text",
    "id": "_bJ4bC65QJI3"
   },
   "source": [
    "### Adaboost Classifier"
   ]
  },
  {
   "cell_type": "code",
   "execution_count": 0,
   "metadata": {
    "colab": {},
    "colab_type": "code",
    "id": "HJ5y5SJ_QABu"
   },
   "outputs": [],
   "source": [
    "from sklearn.ensemble import AdaBoostClassifier"
   ]
  },
  {
   "cell_type": "code",
   "execution_count": 0,
   "metadata": {
    "colab": {},
    "colab_type": "code",
    "id": "JtjfblhZ72K1"
   },
   "outputs": [],
   "source": [
    "#Best estimator obtained from 05_hyp_param_adaboost\n",
    "ada_clf = AdaBoostClassifier(algorithm='SAMME.R',\n",
    "                   base_estimator=DecisionTreeClassifier(class_weight=None,\n",
    "                                                         criterion='gini',\n",
    "                                                         max_depth=32,\n",
    "                                                         max_features=None,\n",
    "                                                         max_leaf_nodes=None,\n",
    "                                                         min_impurity_decrease=0.0,\n",
    "                                                         min_impurity_split=None,\n",
    "                                                         min_samples_leaf=1,\n",
    "                                                         min_samples_split=2,\n",
    "                                                         min_weight_fraction_leaf=0.0,\n",
    "                                                         presort=False,\n",
    "                                                         random_state=42,\n",
    "                                                         splitter='best'),\n",
    "                   learning_rate=0.9999999999999999, n_estimators=21,\n",
    "                   random_state=42)"
   ]
  },
  {
   "cell_type": "code",
   "execution_count": 44,
   "metadata": {
    "colab": {
     "base_uri": "https://localhost:8080/",
     "height": 102
    },
    "colab_type": "code",
    "id": "kAbIbGS_8K5U",
    "outputId": "f10a4060-2ce8-4bff-938e-69420421f98b"
   },
   "outputs": [
    {
     "name": "stdout",
     "output_type": "stream",
     "text": [
      "ada_clf_scores:  [0.97757848 0.97982063 0.97982063 0.98206278 0.98654709 0.97982063\n",
      " 0.98430493 0.96188341 0.97078652 0.98648649]\n",
      "Mean:  0.9789111568362839\n",
      "Standard Deviation:  0.0071758624927747055\n",
      "['0.9818 +/- 0.0049', '0.9850 +/- 0.0039', '0.9637 +/- 0.0058', '0.9686 +/- 0.0085', '0.9702 +/- 0.0047', '0.9789 +/- 0.0072']\n"
     ]
    }
   ],
   "source": [
    "ada_clf_scores = cross_val_score(ada_clf, X_train_dtm, y_train, cv = 10)\n",
    "\n",
    "print(\"ada_clf_scores: \", ada_clf_scores)\n",
    "print(\"Mean: \", ada_clf_scores.mean())\n",
    "print(\"Standard Deviation: \", ada_clf_scores.std())\n",
    "\n",
    "ada_clf_ms = \"{0:.4f}\".format(ada_clf_scores.mean()) + \" +/- \" + \"{0:.4f}\".format(ada_clf_scores.std())\n",
    "mean_scores.append(ada_clf_ms)\n",
    "print(mean_scores)"
   ]
  },
  {
   "cell_type": "code",
   "execution_count": 45,
   "metadata": {
    "colab": {
     "base_uri": "https://localhost:8080/",
     "height": 34
    },
    "colab_type": "code",
    "id": "KCQy5pEp8pRT",
    "outputId": "c134aa25-0aba-4932-c176-769d998090bf"
   },
   "outputs": [
    {
     "data": {
      "text/plain": [
       "0.9820627802690582"
      ]
     },
     "execution_count": 45,
     "metadata": {
      "tags": []
     },
     "output_type": "execute_result"
    }
   ],
   "source": [
    "ada_clf.fit(X_train_dtm, y_train)\n",
    "\n",
    "ada_clf_score = ada_clf.score(X_test_dtm, y_test)\n",
    "scores.append(ada_clf_score)\n",
    "ada_clf_score"
   ]
  },
  {
   "cell_type": "code",
   "execution_count": 46,
   "metadata": {
    "colab": {
     "base_uri": "https://localhost:8080/",
     "height": 34
    },
    "colab_type": "code",
    "id": "2IGQ7oLz8_4U",
    "outputId": "2100f1d0-5fe3-4904-f73c-9e6933846a46"
   },
   "outputs": [
    {
     "data": {
      "text/plain": [
       "array([0, 0, 0, 1, 0, 0, 0, 0, 0, 0])"
      ]
     },
     "execution_count": 46,
     "metadata": {
      "tags": []
     },
     "output_type": "execute_result"
    }
   ],
   "source": [
    "ada_clf_y_pred = ada_clf.predict(X_test_dtm)\n",
    "ada_clf_y_pred[:10]"
   ]
  },
  {
   "cell_type": "code",
   "execution_count": 47,
   "metadata": {
    "colab": {
     "base_uri": "https://localhost:8080/",
     "height": 51
    },
    "colab_type": "code",
    "id": "RP7wXcBJ9kVr",
    "outputId": "b624fb48-a091-4416-a840-7676b0a50013"
   },
   "outputs": [
    {
     "data": {
      "text/plain": [
       "array([[963,   3],\n",
       "       [ 17, 132]])"
      ]
     },
     "execution_count": 47,
     "metadata": {
      "tags": []
     },
     "output_type": "execute_result"
    }
   ],
   "source": [
    "ada_clf_confMatrix = confusion_matrix(y_true = y_test, y_pred = ada_clf_y_pred)\n",
    "ada_clf_confMatrix"
   ]
  },
  {
   "cell_type": "code",
   "execution_count": 48,
   "metadata": {
    "colab": {
     "base_uri": "https://localhost:8080/",
     "height": 68
    },
    "colab_type": "code",
    "id": "Cyaymeuy-IPe",
    "outputId": "97de1061-489e-4aef-9739-1a7221ef362e"
   },
   "outputs": [
    {
     "name": "stdout",
     "output_type": "stream",
     "text": [
      "Precision: 0.978\n",
      "Recall: 0.886\n",
      "F1: 0.930\n"
     ]
    }
   ],
   "source": [
    "print('Precision: %.3f' % precision_score(y_true=y_test, y_pred=ada_clf_y_pred))\n",
    "print('Recall: %.3f' % recall_score(y_true=y_test, y_pred=ada_clf_y_pred))\n",
    "print('F1: %.3f' % f1_score(y_true=y_test, y_pred=ada_clf_y_pred))"
   ]
  },
  {
   "cell_type": "markdown",
   "metadata": {
    "colab_type": "text",
    "id": "P0lFRWmPCL6U"
   },
   "source": [
    "### Gradientboost Classifier"
   ]
  },
  {
   "cell_type": "code",
   "execution_count": 0,
   "metadata": {
    "colab": {},
    "colab_type": "code",
    "id": "WL0lmVEE-YNX"
   },
   "outputs": [],
   "source": [
    "from sklearn.ensemble import GradientBoostingClassifier"
   ]
  },
  {
   "cell_type": "code",
   "execution_count": 0,
   "metadata": {
    "colab": {},
    "colab_type": "code",
    "id": "O0-SEZmB7zgD"
   },
   "outputs": [],
   "source": [
    "# Best estimator obtained from 06_hyp_param_grdboost\n",
    "grb_clf = GradientBoostingClassifier(criterion='friedman_mse', init=None,\n",
    "                           learning_rate=0.2, loss='deviance', max_depth=7,\n",
    "                           max_features=None, max_leaf_nodes=None,\n",
    "                           min_impurity_decrease=0.0, min_impurity_split=None,\n",
    "                           min_samples_leaf=1, min_samples_split=2,\n",
    "                           min_weight_fraction_leaf=0.0, n_estimators=178,\n",
    "                           n_iter_no_change=None, presort='auto',\n",
    "                           random_state=42, subsample=1.0, tol=0.0001,\n",
    "                           validation_fraction=0.1, verbose=0,\n",
    "                           warm_start=False)"
   ]
  },
  {
   "cell_type": "code",
   "execution_count": 52,
   "metadata": {
    "colab": {
     "base_uri": "https://localhost:8080/",
     "height": 122
    },
    "colab_type": "code",
    "id": "dxfHL6rh8GcM",
    "outputId": "0bae765c-45d5-4d54-ceef-38b35106f8c0"
   },
   "outputs": [
    {
     "name": "stdout",
     "output_type": "stream",
     "text": [
      "grb_clf_scores:  [0.98654709 0.98654709 0.98878924 0.97982063 0.98654709 0.97757848\n",
      " 0.97757848 0.96636771 0.97303371 0.98198198]\n",
      "Mean:  0.9804791474600514\n",
      "Standard Deviation:  0.00673501533044217\n",
      "['0.9818 +/- 0.0049', '0.9850 +/- 0.0039', '0.9637 +/- 0.0058', '0.9686 +/- 0.0085', '0.9702 +/- 0.0047', '0.9789 +/- 0.0072', '0.9805 +/- 0.0067']\n"
     ]
    }
   ],
   "source": [
    "grb_clf_scores = cross_val_score(grb_clf, X_train_dtm, y_train, cv = 10)\n",
    "\n",
    "print(\"grb_clf_scores: \", grb_clf_scores)\n",
    "print(\"Mean: \", grb_clf_scores.mean())\n",
    "print(\"Standard Deviation: \", grb_clf_scores.std())\n",
    "\n",
    "grb_clf_ms = \"{0:.4f}\".format(grb_clf_scores.mean()) + \" +/- \" + \"{0:.4f}\".format(grb_clf_scores.std())\n",
    "mean_scores.append(grb_clf_ms)\n",
    "print(mean_scores)"
   ]
  },
  {
   "cell_type": "code",
   "execution_count": 53,
   "metadata": {
    "colab": {
     "base_uri": "https://localhost:8080/",
     "height": 34
    },
    "colab_type": "code",
    "id": "U_S8-e7i86Zp",
    "outputId": "eb6bc297-34ff-49c0-d920-7623e4f4a46e"
   },
   "outputs": [
    {
     "data": {
      "text/plain": [
       "0.9757847533632287"
      ]
     },
     "execution_count": 53,
     "metadata": {
      "tags": []
     },
     "output_type": "execute_result"
    }
   ],
   "source": [
    "grb_clf.fit(X_train_dtm, y_train)\n",
    "\n",
    "grb_clf_score = grb_clf.score(X_test_dtm, y_test)\n",
    "scores.append(grb_clf_score)\n",
    "grb_clf_score"
   ]
  },
  {
   "cell_type": "code",
   "execution_count": 54,
   "metadata": {
    "colab": {
     "base_uri": "https://localhost:8080/",
     "height": 34
    },
    "colab_type": "code",
    "id": "m4NYjA8F9zCr",
    "outputId": "4eac28f2-78bd-4d49-e8d8-6f64466f41ce"
   },
   "outputs": [
    {
     "data": {
      "text/plain": [
       "array([0, 0, 0, 1, 0, 0, 0, 0, 0, 0])"
      ]
     },
     "execution_count": 54,
     "metadata": {
      "tags": []
     },
     "output_type": "execute_result"
    }
   ],
   "source": [
    "grb_clf_y_pred = grb_clf.predict(X_test_dtm)\n",
    "grb_clf_y_pred[:10]"
   ]
  },
  {
   "cell_type": "code",
   "execution_count": 55,
   "metadata": {
    "colab": {
     "base_uri": "https://localhost:8080/",
     "height": 51
    },
    "colab_type": "code",
    "id": "LnnJN5tW99yb",
    "outputId": "f830ff0d-dc4a-4964-e277-bbb9edc77d6a"
   },
   "outputs": [
    {
     "data": {
      "text/plain": [
       "array([[964,   2],\n",
       "       [ 25, 124]])"
      ]
     },
     "execution_count": 55,
     "metadata": {
      "tags": []
     },
     "output_type": "execute_result"
    }
   ],
   "source": [
    "grb_clf_confMatrix = confusion_matrix(y_true = y_test, y_pred = grb_clf_y_pred)\n",
    "grb_clf_confMatrix"
   ]
  },
  {
   "cell_type": "code",
   "execution_count": 57,
   "metadata": {
    "colab": {
     "base_uri": "https://localhost:8080/",
     "height": 68
    },
    "colab_type": "code",
    "id": "vWQyskD2-MVy",
    "outputId": "53b61db6-91e9-4002-d130-b75875fab955"
   },
   "outputs": [
    {
     "name": "stdout",
     "output_type": "stream",
     "text": [
      "Precision: 0.984\n",
      "Recall: 0.832\n",
      "F1: 0.902\n"
     ]
    }
   ],
   "source": [
    "print('Precision: %.3f' % precision_score(y_true=y_test, y_pred=grb_clf_y_pred))\n",
    "print('Recall: %.3f' % recall_score(y_true=y_test, y_pred=grb_clf_y_pred))\n",
    "print('F1: %.3f' % f1_score(y_true=y_test, y_pred=grb_clf_y_pred))"
   ]
  },
  {
   "cell_type": "code",
   "execution_count": 58,
   "metadata": {
    "colab": {
     "base_uri": "https://localhost:8080/",
     "height": 34
    },
    "colab_type": "code",
    "id": "CdP5p-xC-epo",
    "outputId": "63ce76b2-0d84-451f-f9e1-f6b637e1272f"
   },
   "outputs": [
    {
     "name": "stdout",
     "output_type": "stream",
     "text": [
      "[0.9811659192825112, 0.9829596412556054, 0.9659192825112107, 0.968609865470852, 0.968609865470852, 0.9820627802690582, 0.9757847533632287]\n"
     ]
    }
   ],
   "source": [
    "x_plots = range(7)\n",
    "x_labels = ['Logistic Regression', 'SVM Linear', 'SVM rbf', \n",
    "            'Decision Tree', 'Random Forest', 'Adaboost', 'Gradient Boosting']\n",
    "y_plots = scores\n",
    "print(y_plots)"
   ]
  },
  {
   "cell_type": "code",
   "execution_count": 59,
   "metadata": {
    "colab": {
     "base_uri": "https://localhost:8080/",
     "height": 355
    },
    "colab_type": "code",
    "id": "f30a3MOb_MrT",
    "outputId": "5d01bfbf-54ba-4fe3-c0af-a9844bd1f11d"
   },
   "outputs": [
    {
     "data": {
      "image/png": "[encoded data removed]",
      "text/plain": [
       "<Figure size 432x288 with 1 Axes>"
      ]
     },
     "metadata": {
      "tags": []
     },
     "output_type": "display_data"
    }
   ],
   "source": [
    "plt.xticks(x_plots, x_labels, color = 'red', rotation = 40)\n",
    "for i in range(7):\n",
    "    plt.text(x= x_plots[i]-0.2, y= y_plots[i]+0.03, s = \"%.2f\" %(y_plots[i]), color='blue', fontweight='bold')\n",
    "    plt.bar(x_plots[i], y_plots[i], width=0.7)\n",
    "plt.ylim([0,1.2])\n",
    "plt.title(\"Performance Chart\")\n",
    "plt.xlabel(\"Machine learning models\")\n",
    "plt.ylabel(\"Scores\")\n",
    "plt.show()"
   ]
  },
  {
   "cell_type": "code",
   "execution_count": 65,
   "metadata": {
    "colab": {
     "base_uri": "https://localhost:8080/",
     "height": 34
    },
    "colab_type": "code",
    "id": "39o9-OdJ_W1f",
    "outputId": "eeffc2c9-747a-4b57-cc18-67914e6be676"
   },
   "outputs": [
    {
     "data": {
      "text/plain": [
       "(1, 7)"
      ]
     },
     "execution_count": 65,
     "metadata": {
      "tags": []
     },
     "output_type": "execute_result"
    }
   ],
   "source": [
    "mean_values = np.array(mean_scores).reshape(1,-1)\n",
    "mean_values.shape"
   ]
  },
  {
   "cell_type": "code",
   "execution_count": 0,
   "metadata": {
    "colab": {},
    "colab_type": "code",
    "id": "ddxtznrcARQR"
   },
   "outputs": [],
   "source": [
    "mean_scores_pd = pd.DataFrame(data=mean_values, columns=x_labels)"
   ]
  },
  {
   "cell_type": "code",
   "execution_count": 72,
   "metadata": {
    "colab": {
     "base_uri": "https://localhost:8080/",
     "height": 111
    },
    "colab_type": "code",
    "id": "N1J1La49A5a7",
    "outputId": "4414d430-459e-47c8-db94-057206894c15"
   },
   "outputs": [
    {
     "data": {
      "text/html": [
       "<div>\n",
       "<style scoped>\n",
       "    .dataframe tbody tr th:only-of-type {\n",
       "        vertical-align: middle;\n",
       "    }\n",
       "\n",
       "    .dataframe tbody tr th {\n",
       "        vertical-align: top;\n",
       "    }\n",
       "\n",
       "    .dataframe thead th {\n",
       "        text-align: right;\n",
       "    }\n",
       "</style>\n",
       "<table border=\"1\" class=\"dataframe\">\n",
       "  <thead>\n",
       "    <tr style=\"text-align: right;\">\n",
       "      <th></th>\n",
       "      <th>Logistic Regression</th>\n",
       "      <th>SVM Linear</th>\n",
       "      <th>SVM rbf</th>\n",
       "      <th>Decision Tree</th>\n",
       "      <th>Random Forest</th>\n",
       "      <th>Adaboost</th>\n",
       "      <th>Gradient Boosting</th>\n",
       "    </tr>\n",
       "    <tr>\n",
       "      <th>Mean_score</th>\n",
       "      <th></th>\n",
       "      <th></th>\n",
       "      <th></th>\n",
       "      <th></th>\n",
       "      <th></th>\n",
       "      <th></th>\n",
       "      <th></th>\n",
       "    </tr>\n",
       "  </thead>\n",
       "  <tbody>\n",
       "    <tr>\n",
       "      <th>0</th>\n",
       "      <td>0.9818 +/- 0.0049</td>\n",
       "      <td>0.9850 +/- 0.0039</td>\n",
       "      <td>0.9637 +/- 0.0058</td>\n",
       "      <td>0.9686 +/- 0.0085</td>\n",
       "      <td>0.9702 +/- 0.0047</td>\n",
       "      <td>0.9789 +/- 0.0072</td>\n",
       "      <td>0.9805 +/- 0.0067</td>\n",
       "    </tr>\n",
       "  </tbody>\n",
       "</table>\n",
       "</div>"
      ],
      "text/plain": [
       "           Logistic Regression  ...  Gradient Boosting\n",
       "Mean_score                      ...                   \n",
       "0            0.9818 +/- 0.0049  ...  0.9805 +/- 0.0067\n",
       "\n",
       "[1 rows x 7 columns]"
      ]
     },
     "execution_count": 72,
     "metadata": {
      "tags": []
     },
     "output_type": "execute_result"
    }
   ],
   "source": [
    "mean_scores_pd.index.name = 'Mean_score'\n",
    "\n",
    "mean_scores_pd"
   ]
  }
 ],
 "metadata": {
  "accelerator": "GPU",
  "colab": {
   "collapsed_sections": [
    "kjwgK7YeD6oc",
    "Lcpuj1qTKwf3"
   ],
   "name": "bag-of-words-model-evaluation.ipynb",
   "provenance": [],
   "version": "0.3.2"
  },
  "kernelspec": {
   "display_name": "Python 3",
   "language": "python",
   "name": "python3"
  },
  "language_info": {
   "codemirror_mode": {
    "name": "ipython",
    "version": 3
   },
   "file_extension": ".py",
   "mimetype": "text/x-python",
   "name": "python",
   "nbconvert_exporter": "python",
   "pygments_lexer": "ipython3",
   "version": "3.6.7"
  }
 },
 "nbformat": 4,
 "nbformat_minor": 1
}
