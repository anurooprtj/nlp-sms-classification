{
 "cells": [
  {
   "cell_type": "code",
   "execution_count": 0,
   "metadata": {
    "colab": {},
    "colab_type": "code",
    "id": "TIq8NWNoHg6L"
   },
   "outputs": [],
   "source": [
    "# from google.colab import drive\n",
    "# drive.mount('/content/drive')"
   ]
  },
  {
   "cell_type": "code",
   "execution_count": 0,
   "metadata": {
    "colab": {},
    "colab_type": "code",
    "id": "I9ySxjPcHFfZ"
   },
   "outputs": [],
   "source": [
    "import numpy as np\n",
    "import _pickle as pickle"
   ]
  },
  {
   "cell_type": "code",
   "execution_count": 0,
   "metadata": {
    "colab": {},
    "colab_type": "code",
    "id": "uxgXr624HFfe"
   },
   "outputs": [],
   "source": [
    "#Load data\n",
    "with open('/content/drive/My Drive/ML_Data/sms-NLP/sms_train_test.dat', 'rb') as fp:\n",
    "    X_train_dtm = pickle.load(fp)\n",
    "    X_test_dtm = pickle.load(fp)\n",
    "    X_train_tfidf = pickle.load(fp)\n",
    "    X_test_tfidf = pickle.load(fp)\n",
    "    X_train = pickle.load(fp)\n",
    "    X_test = pickle.load(fp) \n",
    "    y_train = pickle.load(fp)\n",
    "    y_test = pickle.load(fp)"
   ]
  },
  {
   "cell_type": "code",
   "execution_count": 4,
   "metadata": {
    "colab": {
     "base_uri": "https://localhost:8080/",
     "height": 85
    },
    "colab_type": "code",
    "executionInfo": {
     "elapsed": 1471,
     "status": "ok",
     "timestamp": 1566743225908,
     "user": {
      "displayName": "Anuroop Raphael.T.J",
      "photoUrl": "https://lh3.googleusercontent.com/a-/AAuE7mDL1orJZ3v_nqD1rq810nW7qYWf-SZ0MDceCk9lig=s64",
      "userId": "15808166267121934928"
     },
     "user_tz": -330
    },
    "id": "xvwx_OCAHFfj",
    "outputId": "fa4a68d3-11dd-4ec7-fbca-9629a329b4b0"
   },
   "outputs": [
    {
     "name": "stdout",
     "output_type": "stream",
     "text": [
      "X_train_dtm.shape:  (4457, 7668)\n",
      "X_test_dtm.shape:  (1115, 7668)\n",
      "\n",
      "X_train_dtm.type:  <class 'scipy.sparse.csr.csr_matrix'>\n"
     ]
    }
   ],
   "source": [
    "print(\"X_train_dtm.shape: \", X_train_dtm.shape)\n",
    "print(\"X_test_dtm.shape: \", X_test_dtm.shape)\n",
    "print(\"\\nX_train_dtm.type: \", type(X_train_dtm))"
   ]
  },
  {
   "cell_type": "code",
   "execution_count": 0,
   "metadata": {
    "colab": {},
    "colab_type": "code",
    "id": "H7jHYkZiHFfp"
   },
   "outputs": [],
   "source": [
    "from sklearn.svm import SVC\n",
    "from sklearn.model_selection import GridSearchCV"
   ]
  },
  {
   "cell_type": "code",
   "execution_count": 0,
   "metadata": {
    "colab": {},
    "colab_type": "code",
    "id": "wLVcs30cHFfs"
   },
   "outputs": [],
   "source": [
    "svm_linear = SVC(kernel = 'linear', random_state = 42)"
   ]
  },
  {
   "cell_type": "code",
   "execution_count": 0,
   "metadata": {
    "colab": {},
    "colab_type": "code",
    "id": "GhhFfM5EHFfv"
   },
   "outputs": [],
   "source": [
    "learning_pts = []\n",
    "learning_threshold = 0\n",
    "for x in range(0,11):\n",
    "    learning_threshold += 0.1\n",
    "    learning_pts.append(learning_threshold)"
   ]
  },
  {
   "cell_type": "code",
   "execution_count": 0,
   "metadata": {
    "colab": {},
    "colab_type": "code",
    "id": "7sE8oIcaHFfz"
   },
   "outputs": [],
   "source": [
    "param_grid_svm_linear = [\n",
    "#     {'C': [i for i in range(1,502,50)]}  {'C': 1}\n",
    "#        {'C': [i for i in range(1,11)]} {'C': 1}\n",
    "       {'C': learning_pts}\n",
    "]"
   ]
  },
  {
   "cell_type": "code",
   "execution_count": 33,
   "metadata": {
    "colab": {
     "base_uri": "https://localhost:8080/",
     "height": 204
    },
    "colab_type": "code",
    "executionInfo": {
     "elapsed": 1708,
     "status": "ok",
     "timestamp": 1566743555481,
     "user": {
      "displayName": "Anuroop Raphael.T.J",
      "photoUrl": "https://lh3.googleusercontent.com/a-/AAuE7mDL1orJZ3v_nqD1rq810nW7qYWf-SZ0MDceCk9lig=s64",
      "userId": "15808166267121934928"
     },
     "user_tz": -330
    },
    "id": "dFca6OiiIEZK",
    "outputId": "8ba1eee2-6ccb-4577-9cd1-5042eab0a9c0"
   },
   "outputs": [
    {
     "data": {
      "text/plain": [
       "[{'C': [0.1,\n",
       "   0.2,\n",
       "   0.30000000000000004,\n",
       "   0.4,\n",
       "   0.5,\n",
       "   0.6,\n",
       "   0.7,\n",
       "   0.7999999999999999,\n",
       "   0.8999999999999999,\n",
       "   0.9999999999999999,\n",
       "   1.0999999999999999]}]"
      ]
     },
     "execution_count": 33,
     "metadata": {
      "tags": []
     },
     "output_type": "execute_result"
    }
   ],
   "source": [
    "param_grid_svm_linear"
   ]
  },
  {
   "cell_type": "code",
   "execution_count": 0,
   "metadata": {
    "colab": {},
    "colab_type": "code",
    "id": "TugrRLZJHFf2"
   },
   "outputs": [],
   "source": [
    "grid_search_svm_linear = GridSearchCV(svm_linear, param_grid_svm_linear, cv=10, verbose = 1)"
   ]
  },
  {
   "cell_type": "code",
   "execution_count": 35,
   "metadata": {
    "colab": {
     "base_uri": "https://localhost:8080/",
     "height": 272
    },
    "colab_type": "code",
    "executionInfo": {
     "elapsed": 46222,
     "status": "ok",
     "timestamp": 1566743616405,
     "user": {
      "displayName": "Anuroop Raphael.T.J",
      "photoUrl": "https://lh3.googleusercontent.com/a-/AAuE7mDL1orJZ3v_nqD1rq810nW7qYWf-SZ0MDceCk9lig=s64",
      "userId": "15808166267121934928"
     },
     "user_tz": -330
    },
    "id": "zu3fYXp4HFf5",
    "outputId": "bdf57d8d-3238-410f-9a11-fa7001473448"
   },
   "outputs": [
    {
     "name": "stdout",
     "output_type": "stream",
     "text": [
      "Fitting 10 folds for each of 11 candidates, totalling 110 fits\n"
     ]
    },
    {
     "name": "stderr",
     "output_type": "stream",
     "text": [
      "[Parallel(n_jobs=1)]: Using backend SequentialBackend with 1 concurrent workers.\n",
      "[Parallel(n_jobs=1)]: Done 110 out of 110 | elapsed:   44.1s finished\n"
     ]
    },
    {
     "data": {
      "text/plain": [
       "GridSearchCV(cv=10, error_score='raise-deprecating',\n",
       "             estimator=SVC(C=1.0, cache_size=200, class_weight=None, coef0=0.0,\n",
       "                           decision_function_shape='ovr', degree=3,\n",
       "                           gamma='auto_deprecated', kernel='linear',\n",
       "                           max_iter=-1, probability=False, random_state=42,\n",
       "                           shrinking=True, tol=0.001, verbose=False),\n",
       "             iid='warn', n_jobs=None,\n",
       "             param_grid=[{'C': [0.1, 0.2, 0.30000000000000004, 0.4, 0.5, 0.6,\n",
       "                                0.7, 0.7999999999999999, 0.8999999999999999,\n",
       "                                0.9999999999999999, 1.0999999999999999]}],\n",
       "             pre_dispatch='2*n_jobs', refit=True, return_train_score=False,\n",
       "             scoring=None, verbose=1)"
      ]
     },
     "execution_count": 35,
     "metadata": {
      "tags": []
     },
     "output_type": "execute_result"
    }
   ],
   "source": [
    "grid_search_svm_linear.fit(X_train_dtm, y_train)"
   ]
  },
  {
   "cell_type": "code",
   "execution_count": 36,
   "metadata": {
    "colab": {
     "base_uri": "https://localhost:8080/",
     "height": 34
    },
    "colab_type": "code",
    "executionInfo": {
     "elapsed": 1404,
     "status": "ok",
     "timestamp": 1566743621727,
     "user": {
      "displayName": "Anuroop Raphael.T.J",
      "photoUrl": "https://lh3.googleusercontent.com/a-/AAuE7mDL1orJZ3v_nqD1rq810nW7qYWf-SZ0MDceCk9lig=s64",
      "userId": "15808166267121934928"
     },
     "user_tz": -330
    },
    "id": "RYNbjSyUHFf8",
    "outputId": "d39ae43a-2d59-4980-fea2-7cb7c7d6fc5a"
   },
   "outputs": [
    {
     "name": "stdout",
     "output_type": "stream",
     "text": [
      "{'C': 0.4}\n"
     ]
    }
   ],
   "source": [
    "grid_search_svm_linear.best_params_"
   ]
  },
  {
   "cell_type": "code",
   "execution_count": 0,
   "metadata": {
    "colab": {},
    "colab_type": "code",
    "id": "N70UxlOIN3wg"
   },
   "outputs": [],
   "source": [
    "grid_search_svm_linear.best_score_"
   ]
  },
  {
   "cell_type": "code",
   "execution_count": 37,
   "metadata": {
    "colab": {
     "base_uri": "https://localhost:8080/",
     "height": 85
    },
    "colab_type": "code",
    "executionInfo": {
     "elapsed": 1202,
     "status": "ok",
     "timestamp": 1566743627487,
     "user": {
      "displayName": "Anuroop Raphael.T.J",
      "photoUrl": "https://lh3.googleusercontent.com/a-/AAuE7mDL1orJZ3v_nqD1rq810nW7qYWf-SZ0MDceCk9lig=s64",
      "userId": "15808166267121934928"
     },
     "user_tz": -330
    },
    "id": "wrU3_GxwK_4M",
    "outputId": "54565d1c-8eb6-4d01-f1fc-b9e53f2acea2"
   },
   "outputs": [
    {
     "name": "stdout",
     "output_type": "stream",
     "text": [
      "SVC(C=0.4, cache_size=200, class_weight=None, coef0=0.0,\n",
      "    decision_function_shape='ovr', degree=3, gamma='auto_deprecated',\n",
      "    kernel='linear', max_iter=-1, probability=False, random_state=42,\n",
      "    shrinking=True, tol=0.001, verbose=False)\n"
     ]
    }
   ],
   "source": [
    "print(grid_search_svm_linear.best_estimator_)"
   ]
  },
  {
   "cell_type": "markdown",
   "metadata": {
    "colab_type": "text",
    "id": "WQouYZWUNAmJ"
   },
   "source": [
    "### For SVM kernel "
   ]
  },
  {
   "cell_type": "code",
   "execution_count": 38,
   "metadata": {
    "colab": {
     "base_uri": "https://localhost:8080/",
     "height": 54
    },
    "colab_type": "code",
    "executionInfo": {
     "elapsed": 1496,
     "status": "ok",
     "timestamp": 1566743743639,
     "user": {
      "displayName": "Anuroop Raphael.T.J",
      "photoUrl": "https://lh3.googleusercontent.com/a-/AAuE7mDL1orJZ3v_nqD1rq810nW7qYWf-SZ0MDceCk9lig=s64",
      "userId": "15808166267121934928"
     },
     "user_tz": -330
    },
    "id": "YBMYobhfLsQj",
    "outputId": "3e8fea3e-6f9b-452b-9ff7-0573551517c6"
   },
   "outputs": [
    {
     "name": "stdout",
     "output_type": "stream",
     "text": [
      "[0.1, 0.2, 0.30000000000000004, 0.4, 0.5, 0.6, 0.7, 0.7999999999999999, 0.8999999999999999, 0.9999999999999999]\n"
     ]
    }
   ],
   "source": [
    "gamma_pts = []\n",
    "gamma_threshold = 0\n",
    "for x in range(0,10):\n",
    "    gamma_threshold += 0.1\n",
    "    gamma_pts.append(gamma_threshold)\n",
    "print(gamma_pts)    "
   ]
  },
  {
   "cell_type": "code",
   "execution_count": 0,
   "metadata": {
    "colab": {},
    "colab_type": "code",
    "id": "__sXABvkNEZY"
   },
   "outputs": [],
   "source": [
    "param_grid_svm_kernel = [\n",
    "#     {'C': [i for i in range(1,501,50)], 'gamma':gamma_pts} #{'C': 51, 'gamma': 0.1}\n",
    "#     {'C': [i for i in range(45, 60)], 'gamma':gamma_pts} #{'C': 45, 'gamma': 0.1}\n",
    "#    {'C': [i for i in range(35,51)], 'gamma':[0.1]} #{'C': 35, 'gamma': 0.1}\n",
    "    {'C': [i for i in range(30,40)], 'gamma':[0.1]} #{'C': 35, 'gamma': 0.1}\n",
    "    \n",
    "    \n",
    "]"
   ]
  },
  {
   "cell_type": "code",
   "execution_count": 70,
   "metadata": {
    "colab": {
     "base_uri": "https://localhost:8080/",
     "height": 34
    },
    "colab_type": "code",
    "executionInfo": {
     "elapsed": 741,
     "status": "ok",
     "timestamp": 1566752069576,
     "user": {
      "displayName": "Anuroop Raphael.T.J",
      "photoUrl": "https://lh3.googleusercontent.com/a-/AAuE7mDL1orJZ3v_nqD1rq810nW7qYWf-SZ0MDceCk9lig=s64",
      "userId": "15808166267121934928"
     },
     "user_tz": -330
    },
    "id": "f_2VuroWNOO4",
    "outputId": "a493cff5-83d0-44d1-c328-4519db17db54"
   },
   "outputs": [
    {
     "data": {
      "text/plain": [
       "[{'C': [30, 31, 32, 33, 34, 35, 36, 37, 38, 39], 'gamma': [0.1]}]"
      ]
     },
     "execution_count": 70,
     "metadata": {
      "tags": []
     },
     "output_type": "execute_result"
    }
   ],
   "source": [
    "param_grid_svm_kernel"
   ]
  },
  {
   "cell_type": "code",
   "execution_count": 0,
   "metadata": {
    "colab": {},
    "colab_type": "code",
    "id": "Zj6rbf5ENPrM"
   },
   "outputs": [],
   "source": [
    "svm_kernel = SVC(kernel = 'rbf', random_state = 42)"
   ]
  },
  {
   "cell_type": "code",
   "execution_count": 0,
   "metadata": {
    "colab": {},
    "colab_type": "code",
    "id": "kaoQiuihNSaw"
   },
   "outputs": [],
   "source": [
    "grid_search_svm_kernel = GridSearchCV(svm_kernel, param_grid_svm_kernel, cv = 10)"
   ]
  },
  {
   "cell_type": "code",
   "execution_count": 73,
   "metadata": {
    "colab": {
     "base_uri": "https://localhost:8080/",
     "height": 204
    },
    "colab_type": "code",
    "executionInfo": {
     "elapsed": 146533,
     "status": "ok",
     "timestamp": 1566752221555,
     "user": {
      "displayName": "Anuroop Raphael.T.J",
      "photoUrl": "https://lh3.googleusercontent.com/a-/AAuE7mDL1orJZ3v_nqD1rq810nW7qYWf-SZ0MDceCk9lig=s64",
      "userId": "15808166267121934928"
     },
     "user_tz": -330
    },
    "id": "379pWS6mNUgJ",
    "outputId": "62a03617-86b1-4ba5-f967-a0fd7a93dd76"
   },
   "outputs": [
    {
     "data": {
      "text/plain": [
       "GridSearchCV(cv=10, error_score='raise-deprecating',\n",
       "             estimator=SVC(C=1.0, cache_size=200, class_weight=None, coef0=0.0,\n",
       "                           decision_function_shape='ovr', degree=3,\n",
       "                           gamma='auto_deprecated', kernel='rbf', max_iter=-1,\n",
       "                           probability=False, random_state=42, shrinking=True,\n",
       "                           tol=0.001, verbose=False),\n",
       "             iid='warn', n_jobs=None,\n",
       "             param_grid=[{'C': [30, 31, 32, 33, 34, 35, 36, 37, 38, 39],\n",
       "                          'gamma': [0.1]}],\n",
       "             pre_dispatch='2*n_jobs', refit=True, return_train_score=False,\n",
       "             scoring=None, verbose=0)"
      ]
     },
     "execution_count": 73,
     "metadata": {
      "tags": []
     },
     "output_type": "execute_result"
    }
   ],
   "source": [
    "grid_search_svm_kernel.fit(X_train_dtm, y_train)"
   ]
  },
  {
   "cell_type": "code",
   "execution_count": 74,
   "metadata": {
    "colab": {
     "base_uri": "https://localhost:8080/",
     "height": 34
    },
    "colab_type": "code",
    "executionInfo": {
     "elapsed": 1225,
     "status": "ok",
     "timestamp": 1566752244592,
     "user": {
      "displayName": "Anuroop Raphael.T.J",
      "photoUrl": "https://lh3.googleusercontent.com/a-/AAuE7mDL1orJZ3v_nqD1rq810nW7qYWf-SZ0MDceCk9lig=s64",
      "userId": "15808166267121934928"
     },
     "user_tz": -330
    },
    "id": "KfyfcLp_teuo",
    "outputId": "371d266f-74fb-44a0-f337-f74d3b01e1a0"
   },
   "outputs": [
    {
     "data": {
      "text/plain": [
       "{'C': 30, 'gamma': 0.1}"
      ]
     },
     "execution_count": 74,
     "metadata": {
      "tags": []
     },
     "output_type": "execute_result"
    }
   ],
   "source": [
    "grid_search_svm_kernel.best_params_"
   ]
  },
  {
   "cell_type": "code",
   "execution_count": 75,
   "metadata": {
    "colab": {
     "base_uri": "https://localhost:8080/",
     "height": 85
    },
    "colab_type": "code",
    "executionInfo": {
     "elapsed": 1395,
     "status": "ok",
     "timestamp": 1566752327568,
     "user": {
      "displayName": "Anuroop Raphael.T.J",
      "photoUrl": "https://lh3.googleusercontent.com/a-/AAuE7mDL1orJZ3v_nqD1rq810nW7qYWf-SZ0MDceCk9lig=s64",
      "userId": "15808166267121934928"
     },
     "user_tz": -330
    },
    "id": "sfwIFPa6NYMh",
    "outputId": "7675a919-e24e-4ef7-fc6b-f0f986fe8574"
   },
   "outputs": [
    {
     "data": {
      "text/plain": [
       "SVC(C=30, cache_size=200, class_weight=None, coef0=0.0,\n",
       "    decision_function_shape='ovr', degree=3, gamma=0.1, kernel='rbf',\n",
       "    max_iter=-1, probability=False, random_state=42, shrinking=True, tol=0.001,\n",
       "    verbose=False)"
      ]
     },
     "execution_count": 75,
     "metadata": {
      "tags": []
     },
     "output_type": "execute_result"
    }
   ],
   "source": [
    "grid_search_svm_kernel.best_estimator_"
   ]
  },
  {
   "cell_type": "code",
   "execution_count": 76,
   "metadata": {
    "colab": {
     "base_uri": "https://localhost:8080/",
     "height": 34
    },
    "colab_type": "code",
    "executionInfo": {
     "elapsed": 1277,
     "status": "ok",
     "timestamp": 1566752330534,
     "user": {
      "displayName": "Anuroop Raphael.T.J",
      "photoUrl": "https://lh3.googleusercontent.com/a-/AAuE7mDL1orJZ3v_nqD1rq810nW7qYWf-SZ0MDceCk9lig=s64",
      "userId": "15808166267121934928"
     },
     "user_tz": -330
    },
    "id": "C9edAgVxbGog",
    "outputId": "088f26f2-f6bc-472c-bb03-66c33e13178c"
   },
   "outputs": [
    {
     "data": {
      "text/plain": [
       "0.9636526811756787"
      ]
     },
     "execution_count": 76,
     "metadata": {
      "tags": []
     },
     "output_type": "execute_result"
    }
   ],
   "source": [
    "grid_search_svm_kernel.best_score_"
   ]
  }
 ],
 "metadata": {
  "accelerator": "GPU",
  "colab": {
   "collapsed_sections": [],
   "name": "02_hyp_param_svm.ipynb",
   "provenance": [],
   "version": "0.3.2"
  },
  "kernelspec": {
   "display_name": "Python 3",
   "language": "python",
   "name": "python3"
  },
  "language_info": {
   "codemirror_mode": {
    "name": "ipython",
    "version": 3
   },
   "file_extension": ".py",
   "mimetype": "text/x-python",
   "name": "python",
   "nbconvert_exporter": "python",
   "pygments_lexer": "ipython3",
   "version": "3.6.7"
  }
 },
 "nbformat": 4,
 "nbformat_minor": 1
}
