{
  "nbformat": 4,
  "nbformat_minor": 0,
  "metadata": {
    "colab": {
      "name": "05_hyp_param_adaboost.ipynb",
      "version": "0.3.2",
      "provenance": [],
      "collapsed_sections": []
    },
    "kernelspec": {
      "name": "python3",
      "display_name": "Python 3"
    },
    "accelerator": "GPU"
  },
  "cells": [
    {
      "cell_type": "code",
      "metadata": {
        "id": "y5OeSvPaQl_5",
        "colab_type": "code",
        "outputId": "b69d04ed-5aa5-404f-e24b-3950b6d9c22e",
        "colab": {
          "base_uri": "https://localhost:8080/",
          "height": 122
        }
      },
      "source": [
        "from google.colab import drive\n",
        "drive.mount('/content/drive')"
      ],
      "execution_count": 1,
      "outputs": [
        {
          "output_type": "stream",
          "text": [
            "Go to this URL in a browser: https://accounts.google.com/o/oauth2/auth?client_id=947318989803-6bn6qk8qdgf4n4g3pfee6491hc0brc4i.apps.googleusercontent.com&redirect_uri=urn%3Aietf%3Awg%3Aoauth%3A2.0%3Aoob&scope=email%20https%3A%2F%2Fwww.googleapis.com%2Fauth%2Fdocs.test%20https%3A%2F%2Fwww.googleapis.com%2Fauth%2Fdrive%20https%3A%2F%2Fwww.googleapis.com%2Fauth%2Fdrive.photos.readonly%20https%3A%2F%2Fwww.googleapis.com%2Fauth%2Fpeopleapi.readonly&response_type=code\n",
            "\n",
            "Enter your authorization code:\n",
            "··········\n",
            "Mounted at /content/drive\n"
          ],
          "name": "stdout"
        }
      ]
    },
    {
      "cell_type": "code",
      "metadata": {
        "id": "070b7_ttQUfW",
        "colab_type": "code",
        "colab": {}
      },
      "source": [
        "import numpy as np\n",
        "import _pickle as pickle"
      ],
      "execution_count": 0,
      "outputs": []
    },
    {
      "cell_type": "code",
      "metadata": {
        "id": "YTTenJyfQzVi",
        "colab_type": "code",
        "colab": {}
      },
      "source": [
        "#Load data\n",
        "with open('/content/drive/My Drive/ML_Data/sms-NLP/sms_train_test.dat', 'rb') as fp:\n",
        "    X_train_dtm = pickle.load(fp)\n",
        "    X_test_dtm = pickle.load(fp)\n",
        "    X_train_tfidf = pickle.load(fp)\n",
        "    X_test_tfidf = pickle.load(fp)\n",
        "    X_train = pickle.load(fp)\n",
        "    X_test = pickle.load(fp) \n",
        "    y_train = pickle.load(fp)\n",
        "    y_test = pickle.load(fp)"
      ],
      "execution_count": 0,
      "outputs": []
    },
    {
      "cell_type": "code",
      "metadata": {
        "id": "P7xHzMqgQ2HU",
        "colab_type": "code",
        "outputId": "b80dc075-8928-41ba-a7b6-2d3dc2717daf",
        "colab": {
          "base_uri": "https://localhost:8080/",
          "height": 85
        }
      },
      "source": [
        "print(\"X_train_dtm.shape: \", X_train_dtm.shape)\n",
        "print(\"X_test_dtm.shape: \", X_test_dtm.shape)\n",
        "print(\"\\nX_train_dtm.type: \", type(X_train_dtm))"
      ],
      "execution_count": 4,
      "outputs": [
        {
          "output_type": "stream",
          "text": [
            "X_train_dtm.shape:  (4457, 7668)\n",
            "X_test_dtm.shape:  (1115, 7668)\n",
            "\n",
            "X_train_dtm.type:  <class 'scipy.sparse.csr.csr_matrix'>\n"
          ],
          "name": "stdout"
        }
      ]
    },
    {
      "cell_type": "code",
      "metadata": {
        "id": "rpGMvL_BQ4ej",
        "colab_type": "code",
        "colab": {}
      },
      "source": [
        "from sklearn.ensemble import AdaBoostClassifier\n",
        "from sklearn.tree import DecisionTreeClassifier\n",
        "from sklearn.model_selection import GridSearchCV"
      ],
      "execution_count": 0,
      "outputs": []
    },
    {
      "cell_type": "code",
      "metadata": {
        "id": "jVAnIV9_RHvy",
        "colab_type": "code",
        "colab": {}
      },
      "source": [
        "ada_clf = AdaBoostClassifier(DecisionTreeClassifier(random_state = 42), \n",
        "                             algorithm=\"SAMME.R\", \n",
        "                             random_state = 42)"
      ],
      "execution_count": 0,
      "outputs": []
    },
    {
      "cell_type": "code",
      "metadata": {
        "id": "2Ri08xjCSCHx",
        "colab_type": "code",
        "outputId": "0dc42d30-4122-48af-f345-3fe72750e5e6",
        "colab": {
          "base_uri": "https://localhost:8080/",
          "height": 34
        }
      },
      "source": [
        "learning_pts = []\n",
        "learning_threshold = 0\n",
        "for x in range(0,10):\n",
        "    learning_threshold += 0.1\n",
        "    learning_pts.append(learning_threshold)\n",
        "print(learning_pts)"
      ],
      "execution_count": 7,
      "outputs": [
        {
          "output_type": "stream",
          "text": [
            "[0.1, 0.2, 0.30000000000000004, 0.4, 0.5, 0.6, 0.7, 0.7999999999999999, 0.8999999999999999, 0.9999999999999999]\n"
          ],
          "name": "stdout"
        }
      ]
    },
    {
      "cell_type": "code",
      "metadata": {
        "id": "Ycq0WQuiRTQS",
        "colab_type": "code",
        "colab": {}
      },
      "source": [
        "param_grid = [\n",
        "#   {'n_estimators': [i for i in range(10,20)], \n",
        "#     'learning_rate': learning_pts,\n",
        "#     \"base_estimator__max_depth\" : [i for i in range(1,55,5)]} \n",
        "# --- {'base_estimator__max_depth': 31, 'learning_rate': 0.9999999999999999, 'n_estimators': 18} #score: 0.9816019744222572\n",
        "      \n",
        "    {'n_estimators': [i for i in range(16,23)], \n",
        "    'learning_rate': learning_pts,\n",
        "    \"base_estimator__max_depth\" : [i for i in range(28,36)]} \n",
        "]"
      ],
      "execution_count": 0,
      "outputs": []
    },
    {
      "cell_type": "code",
      "metadata": {
        "id": "wGNYVdNUSAwE",
        "colab_type": "code",
        "outputId": "bf179dbf-df2d-4d3e-e526-f440d3432bb0",
        "colab": {
          "base_uri": "https://localhost:8080/",
          "height": 221
        }
      },
      "source": [
        "param_grid"
      ],
      "execution_count": 15,
      "outputs": [
        {
          "output_type": "execute_result",
          "data": {
            "text/plain": [
              "[{'base_estimator__max_depth': [28, 29, 30, 31, 32, 33, 34, 35],\n",
              "  'learning_rate': [0.1,\n",
              "   0.2,\n",
              "   0.30000000000000004,\n",
              "   0.4,\n",
              "   0.5,\n",
              "   0.6,\n",
              "   0.7,\n",
              "   0.7999999999999999,\n",
              "   0.8999999999999999,\n",
              "   0.9999999999999999],\n",
              "  'n_estimators': [16, 17, 18, 19, 20, 21, 22]}]"
            ]
          },
          "metadata": {
            "tags": []
          },
          "execution_count": 15
        }
      ]
    },
    {
      "cell_type": "code",
      "metadata": {
        "id": "Lh7aG94mSJIo",
        "colab_type": "code",
        "colab": {}
      },
      "source": [
        "grid_search_adabst = GridSearchCV(ada_clf, param_grid, cv = 5)"
      ],
      "execution_count": 0,
      "outputs": []
    },
    {
      "cell_type": "code",
      "metadata": {
        "id": "MLgl_8anSaKQ",
        "colab_type": "code",
        "outputId": "e88e28ab-bd8e-4c6e-ccbd-a4695041dab4",
        "colab": {
          "base_uri": "https://localhost:8080/",
          "height": 442
        }
      },
      "source": [
        "grid_search_adabst.fit(X_train_dtm, y_train)"
      ],
      "execution_count": 17,
      "outputs": [
        {
          "output_type": "execute_result",
          "data": {
            "text/plain": [
              "GridSearchCV(cv=5, error_score='raise-deprecating',\n",
              "             estimator=AdaBoostClassifier(algorithm='SAMME.R',\n",
              "                                          base_estimator=DecisionTreeClassifier(class_weight=None,\n",
              "                                                                                criterion='gini',\n",
              "                                                                                max_depth=None,\n",
              "                                                                                max_features=None,\n",
              "                                                                                max_leaf_nodes=None,\n",
              "                                                                                min_impurity_decrease=0.0,\n",
              "                                                                                min_impurity_split=None,\n",
              "                                                                                min_samples_leaf=1,\n",
              "                                                                                min_samples_split=2,\n",
              "                                                                                min_weight_fraction_leaf=0.0,\n",
              "                                                                                presort...\n",
              "                                          learning_rate=1.0, n_estimators=50,\n",
              "                                          random_state=42),\n",
              "             iid='warn', n_jobs=None,\n",
              "             param_grid=[{'base_estimator__max_depth': [28, 29, 30, 31, 32, 33,\n",
              "                                                        34, 35],\n",
              "                          'learning_rate': [0.1, 0.2, 0.30000000000000004, 0.4,\n",
              "                                            0.5, 0.6, 0.7, 0.7999999999999999,\n",
              "                                            0.8999999999999999,\n",
              "                                            0.9999999999999999],\n",
              "                          'n_estimators': [16, 17, 18, 19, 20, 21, 22]}],\n",
              "             pre_dispatch='2*n_jobs', refit=True, return_train_score=False,\n",
              "             scoring=None, verbose=0)"
            ]
          },
          "metadata": {
            "tags": []
          },
          "execution_count": 17
        }
      ]
    },
    {
      "cell_type": "code",
      "metadata": {
        "id": "KU1ryaIiSmeV",
        "colab_type": "code",
        "outputId": "4c072556-e6c3-4c48-8f09-04cf12c3eaef",
        "colab": {
          "base_uri": "https://localhost:8080/",
          "height": 68
        }
      },
      "source": [
        "grid_search_adabst.best_params_"
      ],
      "execution_count": 18,
      "outputs": [
        {
          "output_type": "execute_result",
          "data": {
            "text/plain": [
              "{'base_estimator__max_depth': 32,\n",
              " 'learning_rate': 0.9999999999999999,\n",
              " 'n_estimators': 21}"
            ]
          },
          "metadata": {
            "tags": []
          },
          "execution_count": 18
        }
      ]
    },
    {
      "cell_type": "code",
      "metadata": {
        "id": "_txsKLCJSxY8",
        "colab_type": "code",
        "outputId": "6fb5f6b3-7342-4a49-a6d2-70e4b336799c",
        "colab": {
          "base_uri": "https://localhost:8080/",
          "height": 34
        }
      },
      "source": [
        "grid_search_adabst.best_score_"
      ],
      "execution_count": 19,
      "outputs": [
        {
          "output_type": "execute_result",
          "data": {
            "text/plain": [
              "0.9831725375813327"
            ]
          },
          "metadata": {
            "tags": []
          },
          "execution_count": 19
        }
      ]
    },
    {
      "cell_type": "code",
      "metadata": {
        "id": "mESbi96-S03n",
        "colab_type": "code",
        "outputId": "3a9a370f-6c16-44fd-91ae-a468795cedbf",
        "colab": {
          "base_uri": "https://localhost:8080/",
          "height": 289
        }
      },
      "source": [
        "grid_search_adabst.best_estimator_"
      ],
      "execution_count": 20,
      "outputs": [
        {
          "output_type": "execute_result",
          "data": {
            "text/plain": [
              "AdaBoostClassifier(algorithm='SAMME.R',\n",
              "                   base_estimator=DecisionTreeClassifier(class_weight=None,\n",
              "                                                         criterion='gini',\n",
              "                                                         max_depth=32,\n",
              "                                                         max_features=None,\n",
              "                                                         max_leaf_nodes=None,\n",
              "                                                         min_impurity_decrease=0.0,\n",
              "                                                         min_impurity_split=None,\n",
              "                                                         min_samples_leaf=1,\n",
              "                                                         min_samples_split=2,\n",
              "                                                         min_weight_fraction_leaf=0.0,\n",
              "                                                         presort=False,\n",
              "                                                         random_state=42,\n",
              "                                                         splitter='best'),\n",
              "                   learning_rate=0.9999999999999999, n_estimators=21,\n",
              "                   random_state=42)"
            ]
          },
          "metadata": {
            "tags": []
          },
          "execution_count": 20
        }
      ]
    }
  ]
}